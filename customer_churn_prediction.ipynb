{
  "cells": [
    {
      "cell_type": "markdown",
      "metadata": {
        "id": "view-in-github",
        "colab_type": "text"
      },
      "source": [
        "<a href=\"https://colab.research.google.com/github/rayansyed43/Customer-Churn-Prediction/blob/main/customer_churn_prediction.ipynb\" target=\"_parent\"><img src=\"https://colab.research.google.com/assets/colab-badge.svg\" alt=\"Open In Colab\"/></a>"
      ]
    },
    {
      "cell_type": "markdown",
      "id": "0aa0123e",
      "metadata": {
        "id": "0aa0123e"
      },
      "source": [
        "# Project Title - Customer Churn Prediction"
      ]
    },
    {
      "cell_type": "markdown",
      "source": [
        "**Important** - Do change your \"Runtime type\" to \"T4 GPU\" for faster execution"
      ],
      "metadata": {
        "id": "HYyK9CgS6mvT"
      },
      "id": "HYyK9CgS6mvT"
    },
    {
      "cell_type": "markdown",
      "id": "511c31d0",
      "metadata": {
        "id": "511c31d0"
      },
      "source": [
        "## Stage - 1: Data Preprocessing"
      ]
    },
    {
      "cell_type": "code",
      "execution_count": null,
      "id": "fedd8705",
      "metadata": {
        "id": "fedd8705"
      },
      "outputs": [],
      "source": [
        "import numpy as np\n",
        "import pandas as pd"
      ]
    },
    {
      "cell_type": "code",
      "execution_count": null,
      "id": "c567477d",
      "metadata": {
        "id": "c567477d"
      },
      "outputs": [],
      "source": [
        "df = pd.read_csv(\"customer_churn_large_dataset.csv\")"
      ]
    },
    {
      "cell_type": "code",
      "execution_count": null,
      "id": "cfad2f9d",
      "metadata": {
        "colab": {
          "base_uri": "https://localhost:8080/",
          "height": 206
        },
        "id": "cfad2f9d",
        "outputId": "73dbfaeb-5099-497b-853b-c1261f77dab7"
      },
      "outputs": [
        {
          "output_type": "execute_result",
          "data": {
            "text/plain": [
              "   CustomerID        Name  Age  Gender     Location  \\\n",
              "0           1  Customer_1   63    Male  Los Angeles   \n",
              "1           2  Customer_2   62  Female     New York   \n",
              "2           3  Customer_3   24  Female  Los Angeles   \n",
              "3           4  Customer_4   36  Female        Miami   \n",
              "4           5  Customer_5   46  Female        Miami   \n",
              "\n",
              "   Subscription_Length_Months  Monthly_Bill  Total_Usage_GB  Churn  \n",
              "0                          17         73.36             236      0  \n",
              "1                           1         48.76             172      0  \n",
              "2                           5         85.47             460      0  \n",
              "3                           3         97.94             297      1  \n",
              "4                          19         58.14             266      0  "
            ],
            "text/html": [
              "\n",
              "  <div id=\"df-0e70e036-0244-46de-bc48-46774d7b7d96\" class=\"colab-df-container\">\n",
              "    <div>\n",
              "<style scoped>\n",
              "    .dataframe tbody tr th:only-of-type {\n",
              "        vertical-align: middle;\n",
              "    }\n",
              "\n",
              "    .dataframe tbody tr th {\n",
              "        vertical-align: top;\n",
              "    }\n",
              "\n",
              "    .dataframe thead th {\n",
              "        text-align: right;\n",
              "    }\n",
              "</style>\n",
              "<table border=\"1\" class=\"dataframe\">\n",
              "  <thead>\n",
              "    <tr style=\"text-align: right;\">\n",
              "      <th></th>\n",
              "      <th>CustomerID</th>\n",
              "      <th>Name</th>\n",
              "      <th>Age</th>\n",
              "      <th>Gender</th>\n",
              "      <th>Location</th>\n",
              "      <th>Subscription_Length_Months</th>\n",
              "      <th>Monthly_Bill</th>\n",
              "      <th>Total_Usage_GB</th>\n",
              "      <th>Churn</th>\n",
              "    </tr>\n",
              "  </thead>\n",
              "  <tbody>\n",
              "    <tr>\n",
              "      <th>0</th>\n",
              "      <td>1</td>\n",
              "      <td>Customer_1</td>\n",
              "      <td>63</td>\n",
              "      <td>Male</td>\n",
              "      <td>Los Angeles</td>\n",
              "      <td>17</td>\n",
              "      <td>73.36</td>\n",
              "      <td>236</td>\n",
              "      <td>0</td>\n",
              "    </tr>\n",
              "    <tr>\n",
              "      <th>1</th>\n",
              "      <td>2</td>\n",
              "      <td>Customer_2</td>\n",
              "      <td>62</td>\n",
              "      <td>Female</td>\n",
              "      <td>New York</td>\n",
              "      <td>1</td>\n",
              "      <td>48.76</td>\n",
              "      <td>172</td>\n",
              "      <td>0</td>\n",
              "    </tr>\n",
              "    <tr>\n",
              "      <th>2</th>\n",
              "      <td>3</td>\n",
              "      <td>Customer_3</td>\n",
              "      <td>24</td>\n",
              "      <td>Female</td>\n",
              "      <td>Los Angeles</td>\n",
              "      <td>5</td>\n",
              "      <td>85.47</td>\n",
              "      <td>460</td>\n",
              "      <td>0</td>\n",
              "    </tr>\n",
              "    <tr>\n",
              "      <th>3</th>\n",
              "      <td>4</td>\n",
              "      <td>Customer_4</td>\n",
              "      <td>36</td>\n",
              "      <td>Female</td>\n",
              "      <td>Miami</td>\n",
              "      <td>3</td>\n",
              "      <td>97.94</td>\n",
              "      <td>297</td>\n",
              "      <td>1</td>\n",
              "    </tr>\n",
              "    <tr>\n",
              "      <th>4</th>\n",
              "      <td>5</td>\n",
              "      <td>Customer_5</td>\n",
              "      <td>46</td>\n",
              "      <td>Female</td>\n",
              "      <td>Miami</td>\n",
              "      <td>19</td>\n",
              "      <td>58.14</td>\n",
              "      <td>266</td>\n",
              "      <td>0</td>\n",
              "    </tr>\n",
              "  </tbody>\n",
              "</table>\n",
              "</div>\n",
              "    <div class=\"colab-df-buttons\">\n",
              "\n",
              "  <div class=\"colab-df-container\">\n",
              "    <button class=\"colab-df-convert\" onclick=\"convertToInteractive('df-0e70e036-0244-46de-bc48-46774d7b7d96')\"\n",
              "            title=\"Convert this dataframe to an interactive table.\"\n",
              "            style=\"display:none;\">\n",
              "\n",
              "  <svg xmlns=\"http://www.w3.org/2000/svg\" height=\"24px\" viewBox=\"0 -960 960 960\">\n",
              "    <path d=\"M120-120v-720h720v720H120Zm60-500h600v-160H180v160Zm220 220h160v-160H400v160Zm0 220h160v-160H400v160ZM180-400h160v-160H180v160Zm440 0h160v-160H620v160ZM180-180h160v-160H180v160Zm440 0h160v-160H620v160Z\"/>\n",
              "  </svg>\n",
              "    </button>\n",
              "\n",
              "  <style>\n",
              "    .colab-df-container {\n",
              "      display:flex;\n",
              "      gap: 12px;\n",
              "    }\n",
              "\n",
              "    .colab-df-convert {\n",
              "      background-color: #E8F0FE;\n",
              "      border: none;\n",
              "      border-radius: 50%;\n",
              "      cursor: pointer;\n",
              "      display: none;\n",
              "      fill: #1967D2;\n",
              "      height: 32px;\n",
              "      padding: 0 0 0 0;\n",
              "      width: 32px;\n",
              "    }\n",
              "\n",
              "    .colab-df-convert:hover {\n",
              "      background-color: #E2EBFA;\n",
              "      box-shadow: 0px 1px 2px rgba(60, 64, 67, 0.3), 0px 1px 3px 1px rgba(60, 64, 67, 0.15);\n",
              "      fill: #174EA6;\n",
              "    }\n",
              "\n",
              "    .colab-df-buttons div {\n",
              "      margin-bottom: 4px;\n",
              "    }\n",
              "\n",
              "    [theme=dark] .colab-df-convert {\n",
              "      background-color: #3B4455;\n",
              "      fill: #D2E3FC;\n",
              "    }\n",
              "\n",
              "    [theme=dark] .colab-df-convert:hover {\n",
              "      background-color: #434B5C;\n",
              "      box-shadow: 0px 1px 3px 1px rgba(0, 0, 0, 0.15);\n",
              "      filter: drop-shadow(0px 1px 2px rgba(0, 0, 0, 0.3));\n",
              "      fill: #FFFFFF;\n",
              "    }\n",
              "  </style>\n",
              "\n",
              "    <script>\n",
              "      const buttonEl =\n",
              "        document.querySelector('#df-0e70e036-0244-46de-bc48-46774d7b7d96 button.colab-df-convert');\n",
              "      buttonEl.style.display =\n",
              "        google.colab.kernel.accessAllowed ? 'block' : 'none';\n",
              "\n",
              "      async function convertToInteractive(key) {\n",
              "        const element = document.querySelector('#df-0e70e036-0244-46de-bc48-46774d7b7d96');\n",
              "        const dataTable =\n",
              "          await google.colab.kernel.invokeFunction('convertToInteractive',\n",
              "                                                    [key], {});\n",
              "        if (!dataTable) return;\n",
              "\n",
              "        const docLinkHtml = 'Like what you see? Visit the ' +\n",
              "          '<a target=\"_blank\" href=https://colab.research.google.com/notebooks/data_table.ipynb>data table notebook</a>'\n",
              "          + ' to learn more about interactive tables.';\n",
              "        element.innerHTML = '';\n",
              "        dataTable['output_type'] = 'display_data';\n",
              "        await google.colab.output.renderOutput(dataTable, element);\n",
              "        const docLink = document.createElement('div');\n",
              "        docLink.innerHTML = docLinkHtml;\n",
              "        element.appendChild(docLink);\n",
              "      }\n",
              "    </script>\n",
              "  </div>\n",
              "\n",
              "\n",
              "<div id=\"df-232ebfcd-8eb8-4865-947f-e088acbaab10\">\n",
              "  <button class=\"colab-df-quickchart\" onclick=\"quickchart('df-232ebfcd-8eb8-4865-947f-e088acbaab10')\"\n",
              "            title=\"Suggest charts.\"\n",
              "            style=\"display:none;\">\n",
              "\n",
              "<svg xmlns=\"http://www.w3.org/2000/svg\" height=\"24px\"viewBox=\"0 0 24 24\"\n",
              "     width=\"24px\">\n",
              "    <g>\n",
              "        <path d=\"M19 3H5c-1.1 0-2 .9-2 2v14c0 1.1.9 2 2 2h14c1.1 0 2-.9 2-2V5c0-1.1-.9-2-2-2zM9 17H7v-7h2v7zm4 0h-2V7h2v10zm4 0h-2v-4h2v4z\"/>\n",
              "    </g>\n",
              "</svg>\n",
              "  </button>\n",
              "\n",
              "<style>\n",
              "  .colab-df-quickchart {\n",
              "    background-color: #E8F0FE;\n",
              "    border: none;\n",
              "    border-radius: 50%;\n",
              "    cursor: pointer;\n",
              "    display: none;\n",
              "    fill: #1967D2;\n",
              "    height: 32px;\n",
              "    padding: 0 0 0 0;\n",
              "    width: 32px;\n",
              "  }\n",
              "\n",
              "  .colab-df-quickchart:hover {\n",
              "    background-color: #E2EBFA;\n",
              "    box-shadow: 0px 1px 2px rgba(60, 64, 67, 0.3), 0px 1px 3px 1px rgba(60, 64, 67, 0.15);\n",
              "    fill: #174EA6;\n",
              "  }\n",
              "\n",
              "  [theme=dark] .colab-df-quickchart {\n",
              "    background-color: #3B4455;\n",
              "    fill: #D2E3FC;\n",
              "  }\n",
              "\n",
              "  [theme=dark] .colab-df-quickchart:hover {\n",
              "    background-color: #434B5C;\n",
              "    box-shadow: 0px 1px 3px 1px rgba(0, 0, 0, 0.15);\n",
              "    filter: drop-shadow(0px 1px 2px rgba(0, 0, 0, 0.3));\n",
              "    fill: #FFFFFF;\n",
              "  }\n",
              "</style>\n",
              "\n",
              "  <script>\n",
              "    async function quickchart(key) {\n",
              "      const charts = await google.colab.kernel.invokeFunction(\n",
              "          'suggestCharts', [key], {});\n",
              "    }\n",
              "    (() => {\n",
              "      let quickchartButtonEl =\n",
              "        document.querySelector('#df-232ebfcd-8eb8-4865-947f-e088acbaab10 button');\n",
              "      quickchartButtonEl.style.display =\n",
              "        google.colab.kernel.accessAllowed ? 'block' : 'none';\n",
              "    })();\n",
              "  </script>\n",
              "</div>\n",
              "    </div>\n",
              "  </div>\n"
            ]
          },
          "metadata": {},
          "execution_count": 3
        }
      ],
      "source": [
        "df.head()"
      ]
    },
    {
      "cell_type": "code",
      "execution_count": null,
      "id": "c71d642b",
      "metadata": {
        "scrolled": false,
        "colab": {
          "base_uri": "https://localhost:8080/"
        },
        "id": "c71d642b",
        "outputId": "04b5cded-f9ea-4b0e-bc0f-f36001f35b7d"
      },
      "outputs": [
        {
          "output_type": "stream",
          "name": "stdout",
          "text": [
            "CustomerID                      int64\n",
            "Name                           object\n",
            "Age                             int64\n",
            "Gender                         object\n",
            "Location                       object\n",
            "Subscription_Length_Months      int64\n",
            "Monthly_Bill                  float64\n",
            "Total_Usage_GB                  int64\n",
            "Churn                           int64\n",
            "dtype: object\n"
          ]
        }
      ],
      "source": [
        "print(df.dtypes) #To check all the data-types present in the given dataset"
      ]
    },
    {
      "cell_type": "code",
      "execution_count": null,
      "id": "2876430e",
      "metadata": {
        "colab": {
          "base_uri": "https://localhost:8080/"
        },
        "id": "2876430e",
        "outputId": "64e36853-f90b-4751-f023-d17f1b96a9d0"
      },
      "outputs": [
        {
          "output_type": "execute_result",
          "data": {
            "text/plain": [
              "CustomerID                    0\n",
              "Name                          0\n",
              "Age                           0\n",
              "Gender                        0\n",
              "Location                      0\n",
              "Subscription_Length_Months    0\n",
              "Monthly_Bill                  0\n",
              "Total_Usage_GB                0\n",
              "Churn                         0\n",
              "dtype: int64"
            ]
          },
          "metadata": {},
          "execution_count": 5
        }
      ],
      "source": [
        "df.isnull().sum() #No missing data in the dataset"
      ]
    },
    {
      "cell_type": "code",
      "execution_count": null,
      "id": "a2671734",
      "metadata": {
        "colab": {
          "base_uri": "https://localhost:8080/"
        },
        "id": "a2671734",
        "outputId": "f820f4af-97a0-4438-cad3-50d215e396d6"
      },
      "outputs": [
        {
          "output_type": "execute_result",
          "data": {
            "text/plain": [
              "(100000, 9)"
            ]
          },
          "metadata": {},
          "execution_count": 6
        }
      ],
      "source": [
        "df.shape #shows total number of rows and columns present in the given dataset"
      ]
    },
    {
      "cell_type": "code",
      "execution_count": null,
      "id": "1c6649ea",
      "metadata": {
        "colab": {
          "base_uri": "https://localhost:8080/",
          "height": 300
        },
        "id": "1c6649ea",
        "outputId": "11dc2fc5-4427-4769-873a-f18f4681f433"
      },
      "outputs": [
        {
          "output_type": "execute_result",
          "data": {
            "text/plain": [
              "          CustomerID            Age  Subscription_Length_Months  \\\n",
              "count  100000.000000  100000.000000               100000.000000   \n",
              "mean    50000.500000      44.027020                   12.490100   \n",
              "std     28867.657797      15.280283                    6.926461   \n",
              "min         1.000000      18.000000                    1.000000   \n",
              "25%     25000.750000      31.000000                    6.000000   \n",
              "50%     50000.500000      44.000000                   12.000000   \n",
              "75%     75000.250000      57.000000                   19.000000   \n",
              "max    100000.000000      70.000000                   24.000000   \n",
              "\n",
              "        Monthly_Bill  Total_Usage_GB          Churn  \n",
              "count  100000.000000   100000.000000  100000.000000  \n",
              "mean       65.053197      274.393650       0.497790  \n",
              "std        20.230696      130.463063       0.499998  \n",
              "min        30.000000       50.000000       0.000000  \n",
              "25%        47.540000      161.000000       0.000000  \n",
              "50%        65.010000      274.000000       0.000000  \n",
              "75%        82.640000      387.000000       1.000000  \n",
              "max       100.000000      500.000000       1.000000  "
            ],
            "text/html": [
              "\n",
              "  <div id=\"df-3a780cb9-7550-4b65-a3aa-2ee7df029335\" class=\"colab-df-container\">\n",
              "    <div>\n",
              "<style scoped>\n",
              "    .dataframe tbody tr th:only-of-type {\n",
              "        vertical-align: middle;\n",
              "    }\n",
              "\n",
              "    .dataframe tbody tr th {\n",
              "        vertical-align: top;\n",
              "    }\n",
              "\n",
              "    .dataframe thead th {\n",
              "        text-align: right;\n",
              "    }\n",
              "</style>\n",
              "<table border=\"1\" class=\"dataframe\">\n",
              "  <thead>\n",
              "    <tr style=\"text-align: right;\">\n",
              "      <th></th>\n",
              "      <th>CustomerID</th>\n",
              "      <th>Age</th>\n",
              "      <th>Subscription_Length_Months</th>\n",
              "      <th>Monthly_Bill</th>\n",
              "      <th>Total_Usage_GB</th>\n",
              "      <th>Churn</th>\n",
              "    </tr>\n",
              "  </thead>\n",
              "  <tbody>\n",
              "    <tr>\n",
              "      <th>count</th>\n",
              "      <td>100000.000000</td>\n",
              "      <td>100000.000000</td>\n",
              "      <td>100000.000000</td>\n",
              "      <td>100000.000000</td>\n",
              "      <td>100000.000000</td>\n",
              "      <td>100000.000000</td>\n",
              "    </tr>\n",
              "    <tr>\n",
              "      <th>mean</th>\n",
              "      <td>50000.500000</td>\n",
              "      <td>44.027020</td>\n",
              "      <td>12.490100</td>\n",
              "      <td>65.053197</td>\n",
              "      <td>274.393650</td>\n",
              "      <td>0.497790</td>\n",
              "    </tr>\n",
              "    <tr>\n",
              "      <th>std</th>\n",
              "      <td>28867.657797</td>\n",
              "      <td>15.280283</td>\n",
              "      <td>6.926461</td>\n",
              "      <td>20.230696</td>\n",
              "      <td>130.463063</td>\n",
              "      <td>0.499998</td>\n",
              "    </tr>\n",
              "    <tr>\n",
              "      <th>min</th>\n",
              "      <td>1.000000</td>\n",
              "      <td>18.000000</td>\n",
              "      <td>1.000000</td>\n",
              "      <td>30.000000</td>\n",
              "      <td>50.000000</td>\n",
              "      <td>0.000000</td>\n",
              "    </tr>\n",
              "    <tr>\n",
              "      <th>25%</th>\n",
              "      <td>25000.750000</td>\n",
              "      <td>31.000000</td>\n",
              "      <td>6.000000</td>\n",
              "      <td>47.540000</td>\n",
              "      <td>161.000000</td>\n",
              "      <td>0.000000</td>\n",
              "    </tr>\n",
              "    <tr>\n",
              "      <th>50%</th>\n",
              "      <td>50000.500000</td>\n",
              "      <td>44.000000</td>\n",
              "      <td>12.000000</td>\n",
              "      <td>65.010000</td>\n",
              "      <td>274.000000</td>\n",
              "      <td>0.000000</td>\n",
              "    </tr>\n",
              "    <tr>\n",
              "      <th>75%</th>\n",
              "      <td>75000.250000</td>\n",
              "      <td>57.000000</td>\n",
              "      <td>19.000000</td>\n",
              "      <td>82.640000</td>\n",
              "      <td>387.000000</td>\n",
              "      <td>1.000000</td>\n",
              "    </tr>\n",
              "    <tr>\n",
              "      <th>max</th>\n",
              "      <td>100000.000000</td>\n",
              "      <td>70.000000</td>\n",
              "      <td>24.000000</td>\n",
              "      <td>100.000000</td>\n",
              "      <td>500.000000</td>\n",
              "      <td>1.000000</td>\n",
              "    </tr>\n",
              "  </tbody>\n",
              "</table>\n",
              "</div>\n",
              "    <div class=\"colab-df-buttons\">\n",
              "\n",
              "  <div class=\"colab-df-container\">\n",
              "    <button class=\"colab-df-convert\" onclick=\"convertToInteractive('df-3a780cb9-7550-4b65-a3aa-2ee7df029335')\"\n",
              "            title=\"Convert this dataframe to an interactive table.\"\n",
              "            style=\"display:none;\">\n",
              "\n",
              "  <svg xmlns=\"http://www.w3.org/2000/svg\" height=\"24px\" viewBox=\"0 -960 960 960\">\n",
              "    <path d=\"M120-120v-720h720v720H120Zm60-500h600v-160H180v160Zm220 220h160v-160H400v160Zm0 220h160v-160H400v160ZM180-400h160v-160H180v160Zm440 0h160v-160H620v160ZM180-180h160v-160H180v160Zm440 0h160v-160H620v160Z\"/>\n",
              "  </svg>\n",
              "    </button>\n",
              "\n",
              "  <style>\n",
              "    .colab-df-container {\n",
              "      display:flex;\n",
              "      gap: 12px;\n",
              "    }\n",
              "\n",
              "    .colab-df-convert {\n",
              "      background-color: #E8F0FE;\n",
              "      border: none;\n",
              "      border-radius: 50%;\n",
              "      cursor: pointer;\n",
              "      display: none;\n",
              "      fill: #1967D2;\n",
              "      height: 32px;\n",
              "      padding: 0 0 0 0;\n",
              "      width: 32px;\n",
              "    }\n",
              "\n",
              "    .colab-df-convert:hover {\n",
              "      background-color: #E2EBFA;\n",
              "      box-shadow: 0px 1px 2px rgba(60, 64, 67, 0.3), 0px 1px 3px 1px rgba(60, 64, 67, 0.15);\n",
              "      fill: #174EA6;\n",
              "    }\n",
              "\n",
              "    .colab-df-buttons div {\n",
              "      margin-bottom: 4px;\n",
              "    }\n",
              "\n",
              "    [theme=dark] .colab-df-convert {\n",
              "      background-color: #3B4455;\n",
              "      fill: #D2E3FC;\n",
              "    }\n",
              "\n",
              "    [theme=dark] .colab-df-convert:hover {\n",
              "      background-color: #434B5C;\n",
              "      box-shadow: 0px 1px 3px 1px rgba(0, 0, 0, 0.15);\n",
              "      filter: drop-shadow(0px 1px 2px rgba(0, 0, 0, 0.3));\n",
              "      fill: #FFFFFF;\n",
              "    }\n",
              "  </style>\n",
              "\n",
              "    <script>\n",
              "      const buttonEl =\n",
              "        document.querySelector('#df-3a780cb9-7550-4b65-a3aa-2ee7df029335 button.colab-df-convert');\n",
              "      buttonEl.style.display =\n",
              "        google.colab.kernel.accessAllowed ? 'block' : 'none';\n",
              "\n",
              "      async function convertToInteractive(key) {\n",
              "        const element = document.querySelector('#df-3a780cb9-7550-4b65-a3aa-2ee7df029335');\n",
              "        const dataTable =\n",
              "          await google.colab.kernel.invokeFunction('convertToInteractive',\n",
              "                                                    [key], {});\n",
              "        if (!dataTable) return;\n",
              "\n",
              "        const docLinkHtml = 'Like what you see? Visit the ' +\n",
              "          '<a target=\"_blank\" href=https://colab.research.google.com/notebooks/data_table.ipynb>data table notebook</a>'\n",
              "          + ' to learn more about interactive tables.';\n",
              "        element.innerHTML = '';\n",
              "        dataTable['output_type'] = 'display_data';\n",
              "        await google.colab.output.renderOutput(dataTable, element);\n",
              "        const docLink = document.createElement('div');\n",
              "        docLink.innerHTML = docLinkHtml;\n",
              "        element.appendChild(docLink);\n",
              "      }\n",
              "    </script>\n",
              "  </div>\n",
              "\n",
              "\n",
              "<div id=\"df-05a49499-3661-42a6-9990-4d8be900ceba\">\n",
              "  <button class=\"colab-df-quickchart\" onclick=\"quickchart('df-05a49499-3661-42a6-9990-4d8be900ceba')\"\n",
              "            title=\"Suggest charts.\"\n",
              "            style=\"display:none;\">\n",
              "\n",
              "<svg xmlns=\"http://www.w3.org/2000/svg\" height=\"24px\"viewBox=\"0 0 24 24\"\n",
              "     width=\"24px\">\n",
              "    <g>\n",
              "        <path d=\"M19 3H5c-1.1 0-2 .9-2 2v14c0 1.1.9 2 2 2h14c1.1 0 2-.9 2-2V5c0-1.1-.9-2-2-2zM9 17H7v-7h2v7zm4 0h-2V7h2v10zm4 0h-2v-4h2v4z\"/>\n",
              "    </g>\n",
              "</svg>\n",
              "  </button>\n",
              "\n",
              "<style>\n",
              "  .colab-df-quickchart {\n",
              "    background-color: #E8F0FE;\n",
              "    border: none;\n",
              "    border-radius: 50%;\n",
              "    cursor: pointer;\n",
              "    display: none;\n",
              "    fill: #1967D2;\n",
              "    height: 32px;\n",
              "    padding: 0 0 0 0;\n",
              "    width: 32px;\n",
              "  }\n",
              "\n",
              "  .colab-df-quickchart:hover {\n",
              "    background-color: #E2EBFA;\n",
              "    box-shadow: 0px 1px 2px rgba(60, 64, 67, 0.3), 0px 1px 3px 1px rgba(60, 64, 67, 0.15);\n",
              "    fill: #174EA6;\n",
              "  }\n",
              "\n",
              "  [theme=dark] .colab-df-quickchart {\n",
              "    background-color: #3B4455;\n",
              "    fill: #D2E3FC;\n",
              "  }\n",
              "\n",
              "  [theme=dark] .colab-df-quickchart:hover {\n",
              "    background-color: #434B5C;\n",
              "    box-shadow: 0px 1px 3px 1px rgba(0, 0, 0, 0.15);\n",
              "    filter: drop-shadow(0px 1px 2px rgba(0, 0, 0, 0.3));\n",
              "    fill: #FFFFFF;\n",
              "  }\n",
              "</style>\n",
              "\n",
              "  <script>\n",
              "    async function quickchart(key) {\n",
              "      const charts = await google.colab.kernel.invokeFunction(\n",
              "          'suggestCharts', [key], {});\n",
              "    }\n",
              "    (() => {\n",
              "      let quickchartButtonEl =\n",
              "        document.querySelector('#df-05a49499-3661-42a6-9990-4d8be900ceba button');\n",
              "      quickchartButtonEl.style.display =\n",
              "        google.colab.kernel.accessAllowed ? 'block' : 'none';\n",
              "    })();\n",
              "  </script>\n",
              "</div>\n",
              "    </div>\n",
              "  </div>\n"
            ]
          },
          "metadata": {},
          "execution_count": 7
        }
      ],
      "source": [
        "df.describe()"
      ]
    },
    {
      "cell_type": "code",
      "execution_count": null,
      "id": "7ae8c064",
      "metadata": {
        "colab": {
          "base_uri": "https://localhost:8080/",
          "height": 423
        },
        "id": "7ae8c064",
        "outputId": "b327eb30-92f2-4078-8bd1-7daec5febdcb"
      },
      "outputs": [
        {
          "output_type": "execute_result",
          "data": {
            "text/plain": [
              "       CustomerID            Name  Age  Gender     Location  \\\n",
              "62463       62464  Customer_62464   47  Female  Los Angeles   \n",
              "13087       13088  Customer_13088   47  Female      Houston   \n",
              "39830       39831  Customer_39831   36    Male  Los Angeles   \n",
              "81168       81169  Customer_81169   70    Male      Chicago   \n",
              "36951       36952  Customer_36952   54    Male        Miami   \n",
              "...           ...             ...  ...     ...          ...   \n",
              "73859       73860  Customer_73860   47  Female      Chicago   \n",
              "28217       28218  Customer_28218   53    Male      Chicago   \n",
              "28212       28213  Customer_28213   70    Male        Miami   \n",
              "86525       86526  Customer_86526   53    Male  Los Angeles   \n",
              "31066       31067  Customer_31067   44    Male     New York   \n",
              "\n",
              "       Subscription_Length_Months  Monthly_Bill  Total_Usage_GB  Churn  \n",
              "62463                           1         77.09             317      1  \n",
              "13087                           1         34.75             331      1  \n",
              "39830                           1         89.08             373      0  \n",
              "81168                           1         99.46             134      1  \n",
              "36951                           1         92.21             125      0  \n",
              "...                           ...           ...             ...    ...  \n",
              "73859                          24         39.38             221      1  \n",
              "28217                          24         93.88             122      0  \n",
              "28212                          24         83.52             132      0  \n",
              "86525                          24         90.44             293      1  \n",
              "31066                          24         56.78             183      1  \n",
              "\n",
              "[100000 rows x 9 columns]"
            ],
            "text/html": [
              "\n",
              "  <div id=\"df-c6f64ed7-2004-4244-b8b8-f11732cb9863\" class=\"colab-df-container\">\n",
              "    <div>\n",
              "<style scoped>\n",
              "    .dataframe tbody tr th:only-of-type {\n",
              "        vertical-align: middle;\n",
              "    }\n",
              "\n",
              "    .dataframe tbody tr th {\n",
              "        vertical-align: top;\n",
              "    }\n",
              "\n",
              "    .dataframe thead th {\n",
              "        text-align: right;\n",
              "    }\n",
              "</style>\n",
              "<table border=\"1\" class=\"dataframe\">\n",
              "  <thead>\n",
              "    <tr style=\"text-align: right;\">\n",
              "      <th></th>\n",
              "      <th>CustomerID</th>\n",
              "      <th>Name</th>\n",
              "      <th>Age</th>\n",
              "      <th>Gender</th>\n",
              "      <th>Location</th>\n",
              "      <th>Subscription_Length_Months</th>\n",
              "      <th>Monthly_Bill</th>\n",
              "      <th>Total_Usage_GB</th>\n",
              "      <th>Churn</th>\n",
              "    </tr>\n",
              "  </thead>\n",
              "  <tbody>\n",
              "    <tr>\n",
              "      <th>62463</th>\n",
              "      <td>62464</td>\n",
              "      <td>Customer_62464</td>\n",
              "      <td>47</td>\n",
              "      <td>Female</td>\n",
              "      <td>Los Angeles</td>\n",
              "      <td>1</td>\n",
              "      <td>77.09</td>\n",
              "      <td>317</td>\n",
              "      <td>1</td>\n",
              "    </tr>\n",
              "    <tr>\n",
              "      <th>13087</th>\n",
              "      <td>13088</td>\n",
              "      <td>Customer_13088</td>\n",
              "      <td>47</td>\n",
              "      <td>Female</td>\n",
              "      <td>Houston</td>\n",
              "      <td>1</td>\n",
              "      <td>34.75</td>\n",
              "      <td>331</td>\n",
              "      <td>1</td>\n",
              "    </tr>\n",
              "    <tr>\n",
              "      <th>39830</th>\n",
              "      <td>39831</td>\n",
              "      <td>Customer_39831</td>\n",
              "      <td>36</td>\n",
              "      <td>Male</td>\n",
              "      <td>Los Angeles</td>\n",
              "      <td>1</td>\n",
              "      <td>89.08</td>\n",
              "      <td>373</td>\n",
              "      <td>0</td>\n",
              "    </tr>\n",
              "    <tr>\n",
              "      <th>81168</th>\n",
              "      <td>81169</td>\n",
              "      <td>Customer_81169</td>\n",
              "      <td>70</td>\n",
              "      <td>Male</td>\n",
              "      <td>Chicago</td>\n",
              "      <td>1</td>\n",
              "      <td>99.46</td>\n",
              "      <td>134</td>\n",
              "      <td>1</td>\n",
              "    </tr>\n",
              "    <tr>\n",
              "      <th>36951</th>\n",
              "      <td>36952</td>\n",
              "      <td>Customer_36952</td>\n",
              "      <td>54</td>\n",
              "      <td>Male</td>\n",
              "      <td>Miami</td>\n",
              "      <td>1</td>\n",
              "      <td>92.21</td>\n",
              "      <td>125</td>\n",
              "      <td>0</td>\n",
              "    </tr>\n",
              "    <tr>\n",
              "      <th>...</th>\n",
              "      <td>...</td>\n",
              "      <td>...</td>\n",
              "      <td>...</td>\n",
              "      <td>...</td>\n",
              "      <td>...</td>\n",
              "      <td>...</td>\n",
              "      <td>...</td>\n",
              "      <td>...</td>\n",
              "      <td>...</td>\n",
              "    </tr>\n",
              "    <tr>\n",
              "      <th>73859</th>\n",
              "      <td>73860</td>\n",
              "      <td>Customer_73860</td>\n",
              "      <td>47</td>\n",
              "      <td>Female</td>\n",
              "      <td>Chicago</td>\n",
              "      <td>24</td>\n",
              "      <td>39.38</td>\n",
              "      <td>221</td>\n",
              "      <td>1</td>\n",
              "    </tr>\n",
              "    <tr>\n",
              "      <th>28217</th>\n",
              "      <td>28218</td>\n",
              "      <td>Customer_28218</td>\n",
              "      <td>53</td>\n",
              "      <td>Male</td>\n",
              "      <td>Chicago</td>\n",
              "      <td>24</td>\n",
              "      <td>93.88</td>\n",
              "      <td>122</td>\n",
              "      <td>0</td>\n",
              "    </tr>\n",
              "    <tr>\n",
              "      <th>28212</th>\n",
              "      <td>28213</td>\n",
              "      <td>Customer_28213</td>\n",
              "      <td>70</td>\n",
              "      <td>Male</td>\n",
              "      <td>Miami</td>\n",
              "      <td>24</td>\n",
              "      <td>83.52</td>\n",
              "      <td>132</td>\n",
              "      <td>0</td>\n",
              "    </tr>\n",
              "    <tr>\n",
              "      <th>86525</th>\n",
              "      <td>86526</td>\n",
              "      <td>Customer_86526</td>\n",
              "      <td>53</td>\n",
              "      <td>Male</td>\n",
              "      <td>Los Angeles</td>\n",
              "      <td>24</td>\n",
              "      <td>90.44</td>\n",
              "      <td>293</td>\n",
              "      <td>1</td>\n",
              "    </tr>\n",
              "    <tr>\n",
              "      <th>31066</th>\n",
              "      <td>31067</td>\n",
              "      <td>Customer_31067</td>\n",
              "      <td>44</td>\n",
              "      <td>Male</td>\n",
              "      <td>New York</td>\n",
              "      <td>24</td>\n",
              "      <td>56.78</td>\n",
              "      <td>183</td>\n",
              "      <td>1</td>\n",
              "    </tr>\n",
              "  </tbody>\n",
              "</table>\n",
              "<p>100000 rows × 9 columns</p>\n",
              "</div>\n",
              "    <div class=\"colab-df-buttons\">\n",
              "\n",
              "  <div class=\"colab-df-container\">\n",
              "    <button class=\"colab-df-convert\" onclick=\"convertToInteractive('df-c6f64ed7-2004-4244-b8b8-f11732cb9863')\"\n",
              "            title=\"Convert this dataframe to an interactive table.\"\n",
              "            style=\"display:none;\">\n",
              "\n",
              "  <svg xmlns=\"http://www.w3.org/2000/svg\" height=\"24px\" viewBox=\"0 -960 960 960\">\n",
              "    <path d=\"M120-120v-720h720v720H120Zm60-500h600v-160H180v160Zm220 220h160v-160H400v160Zm0 220h160v-160H400v160ZM180-400h160v-160H180v160Zm440 0h160v-160H620v160ZM180-180h160v-160H180v160Zm440 0h160v-160H620v160Z\"/>\n",
              "  </svg>\n",
              "    </button>\n",
              "\n",
              "  <style>\n",
              "    .colab-df-container {\n",
              "      display:flex;\n",
              "      gap: 12px;\n",
              "    }\n",
              "\n",
              "    .colab-df-convert {\n",
              "      background-color: #E8F0FE;\n",
              "      border: none;\n",
              "      border-radius: 50%;\n",
              "      cursor: pointer;\n",
              "      display: none;\n",
              "      fill: #1967D2;\n",
              "      height: 32px;\n",
              "      padding: 0 0 0 0;\n",
              "      width: 32px;\n",
              "    }\n",
              "\n",
              "    .colab-df-convert:hover {\n",
              "      background-color: #E2EBFA;\n",
              "      box-shadow: 0px 1px 2px rgba(60, 64, 67, 0.3), 0px 1px 3px 1px rgba(60, 64, 67, 0.15);\n",
              "      fill: #174EA6;\n",
              "    }\n",
              "\n",
              "    .colab-df-buttons div {\n",
              "      margin-bottom: 4px;\n",
              "    }\n",
              "\n",
              "    [theme=dark] .colab-df-convert {\n",
              "      background-color: #3B4455;\n",
              "      fill: #D2E3FC;\n",
              "    }\n",
              "\n",
              "    [theme=dark] .colab-df-convert:hover {\n",
              "      background-color: #434B5C;\n",
              "      box-shadow: 0px 1px 3px 1px rgba(0, 0, 0, 0.15);\n",
              "      filter: drop-shadow(0px 1px 2px rgba(0, 0, 0, 0.3));\n",
              "      fill: #FFFFFF;\n",
              "    }\n",
              "  </style>\n",
              "\n",
              "    <script>\n",
              "      const buttonEl =\n",
              "        document.querySelector('#df-c6f64ed7-2004-4244-b8b8-f11732cb9863 button.colab-df-convert');\n",
              "      buttonEl.style.display =\n",
              "        google.colab.kernel.accessAllowed ? 'block' : 'none';\n",
              "\n",
              "      async function convertToInteractive(key) {\n",
              "        const element = document.querySelector('#df-c6f64ed7-2004-4244-b8b8-f11732cb9863');\n",
              "        const dataTable =\n",
              "          await google.colab.kernel.invokeFunction('convertToInteractive',\n",
              "                                                    [key], {});\n",
              "        if (!dataTable) return;\n",
              "\n",
              "        const docLinkHtml = 'Like what you see? Visit the ' +\n",
              "          '<a target=\"_blank\" href=https://colab.research.google.com/notebooks/data_table.ipynb>data table notebook</a>'\n",
              "          + ' to learn more about interactive tables.';\n",
              "        element.innerHTML = '';\n",
              "        dataTable['output_type'] = 'display_data';\n",
              "        await google.colab.output.renderOutput(dataTable, element);\n",
              "        const docLink = document.createElement('div');\n",
              "        docLink.innerHTML = docLinkHtml;\n",
              "        element.appendChild(docLink);\n",
              "      }\n",
              "    </script>\n",
              "  </div>\n",
              "\n",
              "\n",
              "<div id=\"df-9443a5ab-1477-4bda-85e9-64c3938171b0\">\n",
              "  <button class=\"colab-df-quickchart\" onclick=\"quickchart('df-9443a5ab-1477-4bda-85e9-64c3938171b0')\"\n",
              "            title=\"Suggest charts.\"\n",
              "            style=\"display:none;\">\n",
              "\n",
              "<svg xmlns=\"http://www.w3.org/2000/svg\" height=\"24px\"viewBox=\"0 0 24 24\"\n",
              "     width=\"24px\">\n",
              "    <g>\n",
              "        <path d=\"M19 3H5c-1.1 0-2 .9-2 2v14c0 1.1.9 2 2 2h14c1.1 0 2-.9 2-2V5c0-1.1-.9-2-2-2zM9 17H7v-7h2v7zm4 0h-2V7h2v10zm4 0h-2v-4h2v4z\"/>\n",
              "    </g>\n",
              "</svg>\n",
              "  </button>\n",
              "\n",
              "<style>\n",
              "  .colab-df-quickchart {\n",
              "    background-color: #E8F0FE;\n",
              "    border: none;\n",
              "    border-radius: 50%;\n",
              "    cursor: pointer;\n",
              "    display: none;\n",
              "    fill: #1967D2;\n",
              "    height: 32px;\n",
              "    padding: 0 0 0 0;\n",
              "    width: 32px;\n",
              "  }\n",
              "\n",
              "  .colab-df-quickchart:hover {\n",
              "    background-color: #E2EBFA;\n",
              "    box-shadow: 0px 1px 2px rgba(60, 64, 67, 0.3), 0px 1px 3px 1px rgba(60, 64, 67, 0.15);\n",
              "    fill: #174EA6;\n",
              "  }\n",
              "\n",
              "  [theme=dark] .colab-df-quickchart {\n",
              "    background-color: #3B4455;\n",
              "    fill: #D2E3FC;\n",
              "  }\n",
              "\n",
              "  [theme=dark] .colab-df-quickchart:hover {\n",
              "    background-color: #434B5C;\n",
              "    box-shadow: 0px 1px 3px 1px rgba(0, 0, 0, 0.15);\n",
              "    filter: drop-shadow(0px 1px 2px rgba(0, 0, 0, 0.3));\n",
              "    fill: #FFFFFF;\n",
              "  }\n",
              "</style>\n",
              "\n",
              "  <script>\n",
              "    async function quickchart(key) {\n",
              "      const charts = await google.colab.kernel.invokeFunction(\n",
              "          'suggestCharts', [key], {});\n",
              "    }\n",
              "    (() => {\n",
              "      let quickchartButtonEl =\n",
              "        document.querySelector('#df-9443a5ab-1477-4bda-85e9-64c3938171b0 button');\n",
              "      quickchartButtonEl.style.display =\n",
              "        google.colab.kernel.accessAllowed ? 'block' : 'none';\n",
              "    })();\n",
              "  </script>\n",
              "</div>\n",
              "    </div>\n",
              "  </div>\n"
            ]
          },
          "metadata": {},
          "execution_count": 8
        }
      ],
      "source": [
        "df.sort_values(by='Subscription_Length_Months')\n",
        "#Sorting the dataset according to \"Subscription_Length_Months\" so that it can be compared with \"Location\" and \"Monthly_Bill\""
      ]
    },
    {
      "cell_type": "code",
      "execution_count": null,
      "id": "80fbfb4f",
      "metadata": {
        "id": "80fbfb4f"
      },
      "outputs": [],
      "source": [
        "from sklearn.model_selection import train_test_split\n",
        "from sklearn.preprocessing import LabelEncoder #Used to convert string datatype columns into numerical type."
      ]
    },
    {
      "cell_type": "code",
      "execution_count": null,
      "id": "bd680c23",
      "metadata": {
        "id": "bd680c23"
      },
      "outputs": [],
      "source": [
        "label_encoder = LabelEncoder()\n",
        "df['Name_encoded'] = label_encoder.fit_transform(df['Name'])\n",
        "df['Gender_encoded'] = label_encoder.fit_transform(df['Gender'])\n",
        "df['Location_encoded'] = label_encoder.fit_transform(df['Location'])"
      ]
    },
    {
      "cell_type": "code",
      "execution_count": null,
      "id": "cdac4d5c",
      "metadata": {
        "id": "cdac4d5c"
      },
      "outputs": [],
      "source": [
        "columns_to_drop = ['Name', 'Gender', 'Location']\n",
        "df=df.drop(columns_to_drop, axis=1)"
      ]
    },
    {
      "cell_type": "code",
      "execution_count": null,
      "id": "03054d50",
      "metadata": {
        "colab": {
          "base_uri": "https://localhost:8080/"
        },
        "id": "03054d50",
        "outputId": "576f8bb3-45bb-46a3-937a-13cb5c121eae"
      },
      "outputs": [
        {
          "output_type": "stream",
          "name": "stdout",
          "text": [
            "CustomerID                      int64\n",
            "Age                             int64\n",
            "Subscription_Length_Months      int64\n",
            "Monthly_Bill                  float64\n",
            "Total_Usage_GB                  int64\n",
            "Churn                           int64\n",
            "Name_encoded                    int64\n",
            "Gender_encoded                  int64\n",
            "Location_encoded                int64\n",
            "dtype: object\n"
          ]
        }
      ],
      "source": [
        "print(df.dtypes) #To check if the said changes have occured or not"
      ]
    },
    {
      "cell_type": "markdown",
      "source": [
        "Below cell contains a python library known as \"pygwalker\".\n",
        "\n",
        "This library provides a tableau-like UI here itself that can be used to make desired visualizations."
      ],
      "metadata": {
        "id": "j1mEj1dk23bI"
      },
      "id": "j1mEj1dk23bI"
    },
    {
      "cell_type": "code",
      "source": [
        "# !pip install pygwalker -q\n",
        "# import pygwalker as pyg\n",
        "# gwalker = pyg.walk(df)"
      ],
      "metadata": {
        "id": "XaKpJVgx052g"
      },
      "id": "XaKpJVgx052g",
      "execution_count": null,
      "outputs": []
    },
    {
      "cell_type": "markdown",
      "id": "0fd0184d",
      "metadata": {
        "id": "0fd0184d"
      },
      "source": [
        "## Stage - 2: Feature Engineering"
      ]
    },
    {
      "cell_type": "code",
      "execution_count": null,
      "id": "b299c219",
      "metadata": {
        "colab": {
          "base_uri": "https://localhost:8080/"
        },
        "id": "b299c219",
        "outputId": "aa28c240-c4f6-4d11-865c-80f81028c7d6"
      },
      "outputs": [
        {
          "output_type": "execute_result",
          "data": {
            "text/plain": [
              "0         13.882353\n",
              "1        172.000000\n",
              "2         92.000000\n",
              "3         99.000000\n",
              "4         14.000000\n",
              "            ...    \n",
              "99995      9.826087\n",
              "99996     18.473684\n",
              "99997     14.764706\n",
              "99998     21.700000\n",
              "99999      9.105263\n",
              "Name: avg_usage_per_month_GB, Length: 100000, dtype: float64"
            ]
          },
          "metadata": {},
          "execution_count": 14
        }
      ],
      "source": [
        "df['avg_usage_per_month_GB'] = df['Total_Usage_GB'] / df['Subscription_Length_Months']\n",
        "df['avg_usage_per_month_GB'] #To get the amount of GB used per month by the customer"
      ]
    },
    {
      "cell_type": "code",
      "execution_count": null,
      "id": "0ca2148a",
      "metadata": {
        "colab": {
          "base_uri": "https://localhost:8080/"
        },
        "id": "0ca2148a",
        "outputId": "21674abc-afba-4a85-adf0-7520103c7989"
      },
      "outputs": [
        {
          "output_type": "execute_result",
          "data": {
            "text/plain": [
              "0        0\n",
              "1        1\n",
              "2        1\n",
              "3        1\n",
              "4        0\n",
              "        ..\n",
              "99995    0\n",
              "99996    0\n",
              "99997    0\n",
              "99998    0\n",
              "99999    0\n",
              "Name: high_usage, Length: 100000, dtype: int64"
            ]
          },
          "metadata": {},
          "execution_count": 15
        }
      ],
      "source": [
        "usage_threshold = df['avg_usage_per_month_GB'].quantile(0.75)\n",
        "df['high_usage'] = df['avg_usage_per_month_GB'].apply(lambda x: 1 if x > usage_threshold else 0)\n",
        "df['high_usage'] #To check if the usage is being high when it is compared to 75% of its own."
      ]
    },
    {
      "cell_type": "code",
      "execution_count": null,
      "id": "45283898",
      "metadata": {
        "colab": {
          "base_uri": "https://localhost:8080/"
        },
        "id": "45283898",
        "outputId": "5f6da916-970d-44c6-ed85-5e09a71a0fee"
      },
      "outputs": [
        {
          "output_type": "execute_result",
          "data": {
            "text/plain": [
              "0        0.320241\n",
              "1        3.967734\n",
              "2        2.122276\n",
              "3        2.283754\n",
              "4        0.322955\n",
              "           ...   \n",
              "99995    0.226670\n",
              "99996    0.426155\n",
              "99997    0.340595\n",
              "99998    0.500580\n",
              "99999    0.210042\n",
              "Name: usage_ratio, Length: 100000, dtype: float64"
            ]
          },
          "metadata": {},
          "execution_count": 16
        }
      ],
      "source": [
        "avg_monthly_usage = df['avg_usage_per_month_GB'].mean()\n",
        "df['usage_ratio'] = df['avg_usage_per_month_GB'] / avg_monthly_usage\n",
        "df['usage_ratio'] #High ratio is used to check if the customer is using more than the average usage of all the customers."
      ]
    },
    {
      "cell_type": "code",
      "execution_count": null,
      "id": "614400bf",
      "metadata": {
        "id": "614400bf"
      },
      "outputs": [],
      "source": [
        "average_bill_per_location = df.groupby('Location_encoded')['Monthly_Bill'].mean()\n",
        "df['avg_bill_per_location'] = df['Location_encoded'].map(average_bill_per_location)\n",
        "#This gives us the average bill that we can get from a particular location."
      ]
    },
    {
      "cell_type": "code",
      "execution_count": null,
      "id": "93861950",
      "metadata": {
        "scrolled": true,
        "colab": {
          "base_uri": "https://localhost:8080/",
          "height": 443
        },
        "id": "93861950",
        "outputId": "6ec6517e-67e4-47cc-e558-ef5363c38faa"
      },
      "outputs": [
        {
          "output_type": "execute_result",
          "data": {
            "text/plain": [
              "       CustomerID  Age  Subscription_Length_Months  Monthly_Bill  \\\n",
              "0               1   63                          17         73.36   \n",
              "1               2   62                           1         48.76   \n",
              "2               3   24                           5         85.47   \n",
              "3               4   36                           3         97.94   \n",
              "4               5   46                          19         58.14   \n",
              "...           ...  ...                         ...           ...   \n",
              "99995       99996   33                          23         55.13   \n",
              "99996       99997   62                          19         61.65   \n",
              "99997       99998   64                          17         96.11   \n",
              "99998       99999   51                          20         49.25   \n",
              "99999      100000   27                          19         76.57   \n",
              "\n",
              "       Total_Usage_GB  Churn  Name_encoded  Gender_encoded  Location_encoded  \\\n",
              "0                 236      0             0               1                 2   \n",
              "1                 172      0         11112               0                 4   \n",
              "2                 460      0         22223               0                 2   \n",
              "3                 297      1         33334               0                 3   \n",
              "4                 266      0         44445               0                 3   \n",
              "...               ...    ...           ...             ...               ...   \n",
              "99995             226      1         99996               1                 1   \n",
              "99996             351      0         99997               0                 4   \n",
              "99997             251      1         99998               1                 0   \n",
              "99998             434      1         99999               0                 4   \n",
              "99999             173      1             5               0                 2   \n",
              "\n",
              "       avg_usage_per_month_GB  high_usage  usage_ratio  avg_bill_per_location  \n",
              "0                   13.882353           0     0.320241              65.192377  \n",
              "1                  172.000000           1     3.967734              65.174980  \n",
              "2                   92.000000           1     2.122276              65.192377  \n",
              "3                   99.000000           1     2.283754              64.951278  \n",
              "4                   14.000000           0     0.322955              64.951278  \n",
              "...                       ...         ...          ...                    ...  \n",
              "99995                9.826087           0     0.226670              65.127926  \n",
              "99996               18.473684           0     0.426155              65.174980  \n",
              "99997               14.764706           0     0.340595              64.819357  \n",
              "99998               21.700000           0     0.500580              65.174980  \n",
              "99999                9.105263           0     0.210042              65.192377  \n",
              "\n",
              "[100000 rows x 13 columns]"
            ],
            "text/html": [
              "\n",
              "  <div id=\"df-c5eab334-1537-488f-ad0e-af2593cf8ec0\" class=\"colab-df-container\">\n",
              "    <div>\n",
              "<style scoped>\n",
              "    .dataframe tbody tr th:only-of-type {\n",
              "        vertical-align: middle;\n",
              "    }\n",
              "\n",
              "    .dataframe tbody tr th {\n",
              "        vertical-align: top;\n",
              "    }\n",
              "\n",
              "    .dataframe thead th {\n",
              "        text-align: right;\n",
              "    }\n",
              "</style>\n",
              "<table border=\"1\" class=\"dataframe\">\n",
              "  <thead>\n",
              "    <tr style=\"text-align: right;\">\n",
              "      <th></th>\n",
              "      <th>CustomerID</th>\n",
              "      <th>Age</th>\n",
              "      <th>Subscription_Length_Months</th>\n",
              "      <th>Monthly_Bill</th>\n",
              "      <th>Total_Usage_GB</th>\n",
              "      <th>Churn</th>\n",
              "      <th>Name_encoded</th>\n",
              "      <th>Gender_encoded</th>\n",
              "      <th>Location_encoded</th>\n",
              "      <th>avg_usage_per_month_GB</th>\n",
              "      <th>high_usage</th>\n",
              "      <th>usage_ratio</th>\n",
              "      <th>avg_bill_per_location</th>\n",
              "    </tr>\n",
              "  </thead>\n",
              "  <tbody>\n",
              "    <tr>\n",
              "      <th>0</th>\n",
              "      <td>1</td>\n",
              "      <td>63</td>\n",
              "      <td>17</td>\n",
              "      <td>73.36</td>\n",
              "      <td>236</td>\n",
              "      <td>0</td>\n",
              "      <td>0</td>\n",
              "      <td>1</td>\n",
              "      <td>2</td>\n",
              "      <td>13.882353</td>\n",
              "      <td>0</td>\n",
              "      <td>0.320241</td>\n",
              "      <td>65.192377</td>\n",
              "    </tr>\n",
              "    <tr>\n",
              "      <th>1</th>\n",
              "      <td>2</td>\n",
              "      <td>62</td>\n",
              "      <td>1</td>\n",
              "      <td>48.76</td>\n",
              "      <td>172</td>\n",
              "      <td>0</td>\n",
              "      <td>11112</td>\n",
              "      <td>0</td>\n",
              "      <td>4</td>\n",
              "      <td>172.000000</td>\n",
              "      <td>1</td>\n",
              "      <td>3.967734</td>\n",
              "      <td>65.174980</td>\n",
              "    </tr>\n",
              "    <tr>\n",
              "      <th>2</th>\n",
              "      <td>3</td>\n",
              "      <td>24</td>\n",
              "      <td>5</td>\n",
              "      <td>85.47</td>\n",
              "      <td>460</td>\n",
              "      <td>0</td>\n",
              "      <td>22223</td>\n",
              "      <td>0</td>\n",
              "      <td>2</td>\n",
              "      <td>92.000000</td>\n",
              "      <td>1</td>\n",
              "      <td>2.122276</td>\n",
              "      <td>65.192377</td>\n",
              "    </tr>\n",
              "    <tr>\n",
              "      <th>3</th>\n",
              "      <td>4</td>\n",
              "      <td>36</td>\n",
              "      <td>3</td>\n",
              "      <td>97.94</td>\n",
              "      <td>297</td>\n",
              "      <td>1</td>\n",
              "      <td>33334</td>\n",
              "      <td>0</td>\n",
              "      <td>3</td>\n",
              "      <td>99.000000</td>\n",
              "      <td>1</td>\n",
              "      <td>2.283754</td>\n",
              "      <td>64.951278</td>\n",
              "    </tr>\n",
              "    <tr>\n",
              "      <th>4</th>\n",
              "      <td>5</td>\n",
              "      <td>46</td>\n",
              "      <td>19</td>\n",
              "      <td>58.14</td>\n",
              "      <td>266</td>\n",
              "      <td>0</td>\n",
              "      <td>44445</td>\n",
              "      <td>0</td>\n",
              "      <td>3</td>\n",
              "      <td>14.000000</td>\n",
              "      <td>0</td>\n",
              "      <td>0.322955</td>\n",
              "      <td>64.951278</td>\n",
              "    </tr>\n",
              "    <tr>\n",
              "      <th>...</th>\n",
              "      <td>...</td>\n",
              "      <td>...</td>\n",
              "      <td>...</td>\n",
              "      <td>...</td>\n",
              "      <td>...</td>\n",
              "      <td>...</td>\n",
              "      <td>...</td>\n",
              "      <td>...</td>\n",
              "      <td>...</td>\n",
              "      <td>...</td>\n",
              "      <td>...</td>\n",
              "      <td>...</td>\n",
              "      <td>...</td>\n",
              "    </tr>\n",
              "    <tr>\n",
              "      <th>99995</th>\n",
              "      <td>99996</td>\n",
              "      <td>33</td>\n",
              "      <td>23</td>\n",
              "      <td>55.13</td>\n",
              "      <td>226</td>\n",
              "      <td>1</td>\n",
              "      <td>99996</td>\n",
              "      <td>1</td>\n",
              "      <td>1</td>\n",
              "      <td>9.826087</td>\n",
              "      <td>0</td>\n",
              "      <td>0.226670</td>\n",
              "      <td>65.127926</td>\n",
              "    </tr>\n",
              "    <tr>\n",
              "      <th>99996</th>\n",
              "      <td>99997</td>\n",
              "      <td>62</td>\n",
              "      <td>19</td>\n",
              "      <td>61.65</td>\n",
              "      <td>351</td>\n",
              "      <td>0</td>\n",
              "      <td>99997</td>\n",
              "      <td>0</td>\n",
              "      <td>4</td>\n",
              "      <td>18.473684</td>\n",
              "      <td>0</td>\n",
              "      <td>0.426155</td>\n",
              "      <td>65.174980</td>\n",
              "    </tr>\n",
              "    <tr>\n",
              "      <th>99997</th>\n",
              "      <td>99998</td>\n",
              "      <td>64</td>\n",
              "      <td>17</td>\n",
              "      <td>96.11</td>\n",
              "      <td>251</td>\n",
              "      <td>1</td>\n",
              "      <td>99998</td>\n",
              "      <td>1</td>\n",
              "      <td>0</td>\n",
              "      <td>14.764706</td>\n",
              "      <td>0</td>\n",
              "      <td>0.340595</td>\n",
              "      <td>64.819357</td>\n",
              "    </tr>\n",
              "    <tr>\n",
              "      <th>99998</th>\n",
              "      <td>99999</td>\n",
              "      <td>51</td>\n",
              "      <td>20</td>\n",
              "      <td>49.25</td>\n",
              "      <td>434</td>\n",
              "      <td>1</td>\n",
              "      <td>99999</td>\n",
              "      <td>0</td>\n",
              "      <td>4</td>\n",
              "      <td>21.700000</td>\n",
              "      <td>0</td>\n",
              "      <td>0.500580</td>\n",
              "      <td>65.174980</td>\n",
              "    </tr>\n",
              "    <tr>\n",
              "      <th>99999</th>\n",
              "      <td>100000</td>\n",
              "      <td>27</td>\n",
              "      <td>19</td>\n",
              "      <td>76.57</td>\n",
              "      <td>173</td>\n",
              "      <td>1</td>\n",
              "      <td>5</td>\n",
              "      <td>0</td>\n",
              "      <td>2</td>\n",
              "      <td>9.105263</td>\n",
              "      <td>0</td>\n",
              "      <td>0.210042</td>\n",
              "      <td>65.192377</td>\n",
              "    </tr>\n",
              "  </tbody>\n",
              "</table>\n",
              "<p>100000 rows × 13 columns</p>\n",
              "</div>\n",
              "    <div class=\"colab-df-buttons\">\n",
              "\n",
              "  <div class=\"colab-df-container\">\n",
              "    <button class=\"colab-df-convert\" onclick=\"convertToInteractive('df-c5eab334-1537-488f-ad0e-af2593cf8ec0')\"\n",
              "            title=\"Convert this dataframe to an interactive table.\"\n",
              "            style=\"display:none;\">\n",
              "\n",
              "  <svg xmlns=\"http://www.w3.org/2000/svg\" height=\"24px\" viewBox=\"0 -960 960 960\">\n",
              "    <path d=\"M120-120v-720h720v720H120Zm60-500h600v-160H180v160Zm220 220h160v-160H400v160Zm0 220h160v-160H400v160ZM180-400h160v-160H180v160Zm440 0h160v-160H620v160ZM180-180h160v-160H180v160Zm440 0h160v-160H620v160Z\"/>\n",
              "  </svg>\n",
              "    </button>\n",
              "\n",
              "  <style>\n",
              "    .colab-df-container {\n",
              "      display:flex;\n",
              "      gap: 12px;\n",
              "    }\n",
              "\n",
              "    .colab-df-convert {\n",
              "      background-color: #E8F0FE;\n",
              "      border: none;\n",
              "      border-radius: 50%;\n",
              "      cursor: pointer;\n",
              "      display: none;\n",
              "      fill: #1967D2;\n",
              "      height: 32px;\n",
              "      padding: 0 0 0 0;\n",
              "      width: 32px;\n",
              "    }\n",
              "\n",
              "    .colab-df-convert:hover {\n",
              "      background-color: #E2EBFA;\n",
              "      box-shadow: 0px 1px 2px rgba(60, 64, 67, 0.3), 0px 1px 3px 1px rgba(60, 64, 67, 0.15);\n",
              "      fill: #174EA6;\n",
              "    }\n",
              "\n",
              "    .colab-df-buttons div {\n",
              "      margin-bottom: 4px;\n",
              "    }\n",
              "\n",
              "    [theme=dark] .colab-df-convert {\n",
              "      background-color: #3B4455;\n",
              "      fill: #D2E3FC;\n",
              "    }\n",
              "\n",
              "    [theme=dark] .colab-df-convert:hover {\n",
              "      background-color: #434B5C;\n",
              "      box-shadow: 0px 1px 3px 1px rgba(0, 0, 0, 0.15);\n",
              "      filter: drop-shadow(0px 1px 2px rgba(0, 0, 0, 0.3));\n",
              "      fill: #FFFFFF;\n",
              "    }\n",
              "  </style>\n",
              "\n",
              "    <script>\n",
              "      const buttonEl =\n",
              "        document.querySelector('#df-c5eab334-1537-488f-ad0e-af2593cf8ec0 button.colab-df-convert');\n",
              "      buttonEl.style.display =\n",
              "        google.colab.kernel.accessAllowed ? 'block' : 'none';\n",
              "\n",
              "      async function convertToInteractive(key) {\n",
              "        const element = document.querySelector('#df-c5eab334-1537-488f-ad0e-af2593cf8ec0');\n",
              "        const dataTable =\n",
              "          await google.colab.kernel.invokeFunction('convertToInteractive',\n",
              "                                                    [key], {});\n",
              "        if (!dataTable) return;\n",
              "\n",
              "        const docLinkHtml = 'Like what you see? Visit the ' +\n",
              "          '<a target=\"_blank\" href=https://colab.research.google.com/notebooks/data_table.ipynb>data table notebook</a>'\n",
              "          + ' to learn more about interactive tables.';\n",
              "        element.innerHTML = '';\n",
              "        dataTable['output_type'] = 'display_data';\n",
              "        await google.colab.output.renderOutput(dataTable, element);\n",
              "        const docLink = document.createElement('div');\n",
              "        docLink.innerHTML = docLinkHtml;\n",
              "        element.appendChild(docLink);\n",
              "      }\n",
              "    </script>\n",
              "  </div>\n",
              "\n",
              "\n",
              "<div id=\"df-7f2f20e8-7753-4955-81aa-01121a799f05\">\n",
              "  <button class=\"colab-df-quickchart\" onclick=\"quickchart('df-7f2f20e8-7753-4955-81aa-01121a799f05')\"\n",
              "            title=\"Suggest charts.\"\n",
              "            style=\"display:none;\">\n",
              "\n",
              "<svg xmlns=\"http://www.w3.org/2000/svg\" height=\"24px\"viewBox=\"0 0 24 24\"\n",
              "     width=\"24px\">\n",
              "    <g>\n",
              "        <path d=\"M19 3H5c-1.1 0-2 .9-2 2v14c0 1.1.9 2 2 2h14c1.1 0 2-.9 2-2V5c0-1.1-.9-2-2-2zM9 17H7v-7h2v7zm4 0h-2V7h2v10zm4 0h-2v-4h2v4z\"/>\n",
              "    </g>\n",
              "</svg>\n",
              "  </button>\n",
              "\n",
              "<style>\n",
              "  .colab-df-quickchart {\n",
              "    background-color: #E8F0FE;\n",
              "    border: none;\n",
              "    border-radius: 50%;\n",
              "    cursor: pointer;\n",
              "    display: none;\n",
              "    fill: #1967D2;\n",
              "    height: 32px;\n",
              "    padding: 0 0 0 0;\n",
              "    width: 32px;\n",
              "  }\n",
              "\n",
              "  .colab-df-quickchart:hover {\n",
              "    background-color: #E2EBFA;\n",
              "    box-shadow: 0px 1px 2px rgba(60, 64, 67, 0.3), 0px 1px 3px 1px rgba(60, 64, 67, 0.15);\n",
              "    fill: #174EA6;\n",
              "  }\n",
              "\n",
              "  [theme=dark] .colab-df-quickchart {\n",
              "    background-color: #3B4455;\n",
              "    fill: #D2E3FC;\n",
              "  }\n",
              "\n",
              "  [theme=dark] .colab-df-quickchart:hover {\n",
              "    background-color: #434B5C;\n",
              "    box-shadow: 0px 1px 3px 1px rgba(0, 0, 0, 0.15);\n",
              "    filter: drop-shadow(0px 1px 2px rgba(0, 0, 0, 0.3));\n",
              "    fill: #FFFFFF;\n",
              "  }\n",
              "</style>\n",
              "\n",
              "  <script>\n",
              "    async function quickchart(key) {\n",
              "      const charts = await google.colab.kernel.invokeFunction(\n",
              "          'suggestCharts', [key], {});\n",
              "    }\n",
              "    (() => {\n",
              "      let quickchartButtonEl =\n",
              "        document.querySelector('#df-7f2f20e8-7753-4955-81aa-01121a799f05 button');\n",
              "      quickchartButtonEl.style.display =\n",
              "        google.colab.kernel.accessAllowed ? 'block' : 'none';\n",
              "    })();\n",
              "  </script>\n",
              "</div>\n",
              "    </div>\n",
              "  </div>\n"
            ]
          },
          "metadata": {},
          "execution_count": 18
        }
      ],
      "source": [
        "df"
      ]
    },
    {
      "cell_type": "code",
      "execution_count": null,
      "id": "562bef80",
      "metadata": {
        "colab": {
          "base_uri": "https://localhost:8080/"
        },
        "id": "562bef80",
        "outputId": "71f8183f-2cf2-4338-9529-23082f31ba05"
      },
      "outputs": [
        {
          "output_type": "stream",
          "name": "stdout",
          "text": [
            "CustomerID                      int64\n",
            "Age                             int64\n",
            "Subscription_Length_Months      int64\n",
            "Monthly_Bill                  float64\n",
            "Total_Usage_GB                  int64\n",
            "Churn                           int64\n",
            "Name_encoded                    int64\n",
            "Gender_encoded                  int64\n",
            "Location_encoded                int64\n",
            "avg_usage_per_month_GB        float64\n",
            "high_usage                      int64\n",
            "usage_ratio                   float64\n",
            "avg_bill_per_location         float64\n",
            "dtype: object\n"
          ]
        }
      ],
      "source": [
        "print(df.dtypes)"
      ]
    },
    {
      "cell_type": "markdown",
      "source": [
        "## Stage - 3: Model Building"
      ],
      "metadata": {
        "id": "-Dt9QnTG0xem"
      },
      "id": "-Dt9QnTG0xem"
    },
    {
      "cell_type": "code",
      "execution_count": null,
      "id": "f199c191",
      "metadata": {
        "id": "f199c191"
      },
      "outputs": [],
      "source": [
        "X = df.drop('Churn', axis=1)\n",
        "y = df['Churn']\n",
        "X_train, X_test, y_train, y_test = train_test_split(X, y, test_size=0.2, random_state=42)"
      ]
    },
    {
      "cell_type": "code",
      "execution_count": null,
      "id": "2b1c822f",
      "metadata": {
        "colab": {
          "base_uri": "https://localhost:8080/"
        },
        "id": "2b1c822f",
        "outputId": "67697217-38f1-4dae-82de-fdc34fccf7f7"
      },
      "outputs": [
        {
          "output_type": "stream",
          "name": "stdout",
          "text": [
            "0        0\n",
            "1        0\n",
            "2        0\n",
            "3        1\n",
            "4        0\n",
            "        ..\n",
            "99995    1\n",
            "99996    0\n",
            "99997    1\n",
            "99998    1\n",
            "99999    1\n",
            "Name: Churn, Length: 100000, dtype: int64\n"
          ]
        }
      ],
      "source": [
        "print(y)"
      ]
    },
    {
      "cell_type": "markdown",
      "source": [
        "#### Model - 1: Neural Networks"
      ],
      "metadata": {
        "id": "sCC0NWMCqwRz"
      },
      "id": "sCC0NWMCqwRz"
    },
    {
      "cell_type": "code",
      "execution_count": null,
      "id": "e61797ac",
      "metadata": {
        "id": "e61797ac"
      },
      "outputs": [],
      "source": [
        "#!pip install tensorflow"
      ]
    },
    {
      "cell_type": "code",
      "execution_count": null,
      "id": "3813582b",
      "metadata": {
        "colab": {
          "base_uri": "https://localhost:8080/"
        },
        "id": "3813582b",
        "outputId": "f137b43b-c877-4f4c-9384-f40786c611a3"
      },
      "outputs": [
        {
          "output_type": "stream",
          "name": "stdout",
          "text": [
            "Epoch 1/20\n",
            "1000/1000 [==============================] - 10s 3ms/step - loss: 0.6962 - accuracy: 0.4985 - val_loss: 0.6933 - val_accuracy: 0.4942\n",
            "Epoch 2/20\n",
            "1000/1000 [==============================] - 3s 3ms/step - loss: 0.6934 - accuracy: 0.5022 - val_loss: 0.6930 - val_accuracy: 0.5081\n",
            "Epoch 3/20\n",
            "1000/1000 [==============================] - 3s 3ms/step - loss: 0.6932 - accuracy: 0.5052 - val_loss: 0.6932 - val_accuracy: 0.5064\n",
            "Epoch 4/20\n",
            "1000/1000 [==============================] - 4s 4ms/step - loss: 0.6930 - accuracy: 0.5064 - val_loss: 0.6934 - val_accuracy: 0.4979\n",
            "Epoch 5/20\n",
            "1000/1000 [==============================] - 3s 3ms/step - loss: 0.6932 - accuracy: 0.5066 - val_loss: 0.6932 - val_accuracy: 0.5039\n",
            "Epoch 6/20\n",
            "1000/1000 [==============================] - 3s 3ms/step - loss: 0.6931 - accuracy: 0.5098 - val_loss: 0.6932 - val_accuracy: 0.5021\n",
            "Epoch 7/20\n",
            "1000/1000 [==============================] - 4s 4ms/step - loss: 0.6931 - accuracy: 0.5056 - val_loss: 0.6932 - val_accuracy: 0.4978\n",
            "Epoch 8/20\n",
            "1000/1000 [==============================] - 3s 3ms/step - loss: 0.6929 - accuracy: 0.5079 - val_loss: 0.6933 - val_accuracy: 0.4993\n",
            "Epoch 9/20\n",
            "1000/1000 [==============================] - 3s 3ms/step - loss: 0.6929 - accuracy: 0.5103 - val_loss: 0.6933 - val_accuracy: 0.5001\n",
            "Epoch 10/20\n",
            "1000/1000 [==============================] - 3s 3ms/step - loss: 0.6928 - accuracy: 0.5106 - val_loss: 0.6935 - val_accuracy: 0.4988\n",
            "Epoch 11/20\n",
            "1000/1000 [==============================] - 4s 4ms/step - loss: 0.6928 - accuracy: 0.5091 - val_loss: 0.6933 - val_accuracy: 0.5005\n",
            "Epoch 12/20\n",
            "1000/1000 [==============================] - 3s 3ms/step - loss: 0.6927 - accuracy: 0.5112 - val_loss: 0.6934 - val_accuracy: 0.5011\n",
            "Epoch 13/20\n",
            "1000/1000 [==============================] - 3s 3ms/step - loss: 0.6929 - accuracy: 0.5083 - val_loss: 0.6936 - val_accuracy: 0.4936\n",
            "Epoch 14/20\n",
            "1000/1000 [==============================] - 3s 3ms/step - loss: 0.6926 - accuracy: 0.5121 - val_loss: 0.6937 - val_accuracy: 0.4981\n",
            "Epoch 15/20\n",
            "1000/1000 [==============================] - 4s 4ms/step - loss: 0.6926 - accuracy: 0.5120 - val_loss: 0.6938 - val_accuracy: 0.4934\n",
            "Epoch 16/20\n",
            "1000/1000 [==============================] - 3s 3ms/step - loss: 0.6924 - accuracy: 0.5125 - val_loss: 0.6936 - val_accuracy: 0.4967\n",
            "Epoch 17/20\n",
            "1000/1000 [==============================] - 3s 3ms/step - loss: 0.6926 - accuracy: 0.5118 - val_loss: 0.6936 - val_accuracy: 0.4963\n",
            "Epoch 18/20\n",
            "1000/1000 [==============================] - 4s 3ms/step - loss: 0.6924 - accuracy: 0.5142 - val_loss: 0.6936 - val_accuracy: 0.4987\n",
            "Epoch 19/20\n",
            "1000/1000 [==============================] - 3s 3ms/step - loss: 0.6924 - accuracy: 0.5102 - val_loss: 0.6937 - val_accuracy: 0.4981\n",
            "Epoch 20/20\n",
            "1000/1000 [==============================] - 3s 3ms/step - loss: 0.6924 - accuracy: 0.5128 - val_loss: 0.6938 - val_accuracy: 0.5011\n",
            "625/625 [==============================] - 2s 2ms/step - loss: 0.6939 - accuracy: 0.5002\n",
            "Test Loss: 0.6939, Test Accuracy: 0.5002\n"
          ]
        }
      ],
      "source": [
        "from sklearn.model_selection import train_test_split\n",
        "from sklearn.preprocessing import StandardScaler\n",
        "from tensorflow import keras\n",
        "from tensorflow.keras import layers\n",
        "import tensorflow as tf\n",
        "\n",
        "scaler = StandardScaler()\n",
        "X_train = scaler.fit_transform(X_train)\n",
        "X_test = scaler.transform(X_test)\n",
        "\n",
        "model = keras.Sequential([\n",
        "    layers.Input(shape=(X_train.shape[1],)),\n",
        "    layers.Dense(64, activation='relu'),\n",
        "    layers.Dropout(0.2),\n",
        "    layers.Dense(32, activation='relu'),\n",
        "    layers.Dropout(0.2),\n",
        "    layers.Dense(1, activation='sigmoid')\n",
        "])\n",
        "\n",
        "model.compile(optimizer='adam', loss='binary_crossentropy', metrics=['accuracy'])\n",
        "\n",
        "history = model.fit(X_train, y_train, epochs=20, batch_size=64, validation_split=0.2)\n",
        "\n",
        "test_loss, test_accuracy = model.evaluate(X_test, y_test)\n",
        "print(f\"Test Loss: {test_loss:.4f}, Test Accuracy: {test_accuracy:.4f}\")"
      ]
    },
    {
      "cell_type": "code",
      "execution_count": null,
      "id": "cc2f0fab",
      "metadata": {
        "colab": {
          "base_uri": "https://localhost:8080/",
          "height": 564
        },
        "id": "cc2f0fab",
        "outputId": "3455001f-e533-491d-e707-647593433b6c"
      },
      "outputs": [
        {
          "output_type": "display_data",
          "data": {
            "text/plain": [
              "<Figure size 1000x600 with 1 Axes>"
            ],
            "image/png": "[encoded data removed]"
          },
          "metadata": {}
        }
      ],
      "source": [
        "import matplotlib.pyplot as plt\n",
        "\n",
        "plt.figure(figsize=(10, 6))\n",
        "plt.plot(history.history['loss'], label='Training Loss')\n",
        "plt.plot(history.history['val_loss'], label='Validation Loss')\n",
        "plt.xlabel('Epoch')\n",
        "plt.ylabel('Loss')\n",
        "plt.title('Training and Validation Loss')\n",
        "plt.legend()\n",
        "plt.show()"
      ]
    },
    {
      "cell_type": "markdown",
      "source": [
        "#### Model - 2: Neural Networks with Regularizer"
      ],
      "metadata": {
        "id": "RhqAkXfi3dij"
      },
      "id": "RhqAkXfi3dij"
    },
    {
      "cell_type": "code",
      "source": [
        "from sklearn.model_selection import train_test_split\n",
        "from sklearn.preprocessing import StandardScaler\n",
        "from tensorflow import keras\n",
        "from tensorflow.keras import layers\n",
        "import tensorflow as tf\n",
        "\n",
        "scaler = StandardScaler()\n",
        "X_train = scaler.fit_transform(X_train)\n",
        "X_test = scaler.transform(X_test)\n",
        "\n",
        "#With the use of kernel_regularizer\n",
        "model = keras.Sequential([\n",
        "    layers.Input(shape=(X_train.shape[1],)),\n",
        "    layers.Dense(64, activation='relu', kernel_regularizer=tf.keras.regularizers.l2(0.001)),\n",
        "    layers.Dropout(0.2),\n",
        "    layers.Dense(32, activation='relu', kernel_regularizer=tf.keras.regularizers.l2(0.001)),\n",
        "    layers.Dropout(0.2),\n",
        "    layers.Dense(1, activation='sigmoid')\n",
        "])\n",
        "\n",
        "model.compile(optimizer='adam', loss='binary_crossentropy', metrics=['accuracy'])\n",
        "\n",
        "history = model.fit(X_train, y_train, epochs=20, batch_size=64, validation_split=0.2)\n",
        "\n",
        "test_loss, test_accuracy = model.evaluate(X_test, y_test)\n",
        "print(f\"Test Loss: {test_loss:.4f}, Test Accuracy: {test_accuracy:.4f}\")"
      ],
      "metadata": {
        "id": "-RryFUic1Go-",
        "colab": {
          "base_uri": "https://localhost:8080/"
        },
        "outputId": "245dc171-de8c-4661-f373-7cf1484616db"
      },
      "id": "-RryFUic1Go-",
      "execution_count": null,
      "outputs": [
        {
          "output_type": "stream",
          "name": "stdout",
          "text": [
            "Epoch 1/20\n",
            "1000/1000 [==============================] - 5s 4ms/step - loss: 0.7301 - accuracy: 0.5004 - val_loss: 0.7095 - val_accuracy: 0.5002\n",
            "Epoch 2/20\n",
            "1000/1000 [==============================] - 3s 3ms/step - loss: 0.7018 - accuracy: 0.5043 - val_loss: 0.6966 - val_accuracy: 0.5089\n",
            "Epoch 3/20\n",
            "1000/1000 [==============================] - 3s 3ms/step - loss: 0.6948 - accuracy: 0.5017 - val_loss: 0.6937 - val_accuracy: 0.4961\n",
            "Epoch 4/20\n",
            "1000/1000 [==============================] - 3s 3ms/step - loss: 0.6933 - accuracy: 0.5021 - val_loss: 0.6932 - val_accuracy: 0.4972\n",
            "Epoch 5/20\n",
            "1000/1000 [==============================] - 4s 4ms/step - loss: 0.6932 - accuracy: 0.5016 - val_loss: 0.6932 - val_accuracy: 0.4961\n",
            "Epoch 6/20\n",
            "1000/1000 [==============================] - 3s 3ms/step - loss: 0.6932 - accuracy: 0.5009 - val_loss: 0.6931 - val_accuracy: 0.5039\n",
            "Epoch 7/20\n",
            "1000/1000 [==============================] - 3s 3ms/step - loss: 0.6932 - accuracy: 0.5015 - val_loss: 0.6932 - val_accuracy: 0.4961\n",
            "Epoch 8/20\n",
            "1000/1000 [==============================] - 3s 3ms/step - loss: 0.6931 - accuracy: 0.5022 - val_loss: 0.6932 - val_accuracy: 0.4961\n",
            "Epoch 9/20\n",
            "1000/1000 [==============================] - 4s 4ms/step - loss: 0.6931 - accuracy: 0.5033 - val_loss: 0.6933 - val_accuracy: 0.4961\n",
            "Epoch 10/20\n",
            "1000/1000 [==============================] - 3s 3ms/step - loss: 0.6932 - accuracy: 0.5027 - val_loss: 0.6932 - val_accuracy: 0.4961\n",
            "Epoch 11/20\n",
            "1000/1000 [==============================] - 3s 3ms/step - loss: 0.6932 - accuracy: 0.5023 - val_loss: 0.6933 - val_accuracy: 0.4961\n",
            "Epoch 12/20\n",
            "1000/1000 [==============================] - 3s 3ms/step - loss: 0.6932 - accuracy: 0.5025 - val_loss: 0.6932 - val_accuracy: 0.4961\n",
            "Epoch 13/20\n",
            "1000/1000 [==============================] - 4s 4ms/step - loss: 0.6932 - accuracy: 0.5016 - val_loss: 0.6932 - val_accuracy: 0.4961\n",
            "Epoch 14/20\n",
            "1000/1000 [==============================] - 4s 4ms/step - loss: 0.6931 - accuracy: 0.5018 - val_loss: 0.6932 - val_accuracy: 0.4961\n",
            "Epoch 15/20\n",
            "1000/1000 [==============================] - 3s 3ms/step - loss: 0.6931 - accuracy: 0.5018 - val_loss: 0.6932 - val_accuracy: 0.4961\n",
            "Epoch 16/20\n",
            "1000/1000 [==============================] - 4s 4ms/step - loss: 0.6931 - accuracy: 0.5009 - val_loss: 0.6932 - val_accuracy: 0.4961\n",
            "Epoch 17/20\n",
            "1000/1000 [==============================] - 3s 3ms/step - loss: 0.6932 - accuracy: 0.5029 - val_loss: 0.6932 - val_accuracy: 0.4961\n",
            "Epoch 18/20\n",
            "1000/1000 [==============================] - 3s 3ms/step - loss: 0.6932 - accuracy: 0.5027 - val_loss: 0.6932 - val_accuracy: 0.4961\n",
            "Epoch 19/20\n",
            "1000/1000 [==============================] - 3s 3ms/step - loss: 0.6931 - accuracy: 0.5012 - val_loss: 0.6932 - val_accuracy: 0.4961\n",
            "Epoch 20/20\n",
            "1000/1000 [==============================] - 4s 4ms/step - loss: 0.6931 - accuracy: 0.5024 - val_loss: 0.6932 - val_accuracy: 0.4961\n",
            "625/625 [==============================] - 2s 2ms/step - loss: 0.6931 - accuracy: 0.5039\n",
            "Test Loss: 0.6931, Test Accuracy: 0.5039\n"
          ]
        }
      ]
    },
    {
      "cell_type": "code",
      "source": [
        "import matplotlib.pyplot as plt\n",
        "\n",
        "plt.figure(figsize=(10, 6))\n",
        "plt.plot(history.history['loss'], label='Training Loss')\n",
        "plt.plot(history.history['val_loss'], label='Validation Loss')\n",
        "plt.xlabel('Epoch')\n",
        "plt.ylabel('Loss')\n",
        "plt.title('Training and Validation Loss')\n",
        "plt.legend()\n",
        "plt.show()"
      ],
      "metadata": {
        "id": "O91kb4kU1GG6",
        "colab": {
          "base_uri": "https://localhost:8080/",
          "height": 564
        },
        "outputId": "7a263258-5ab1-44a9-ccc8-7bc8aa32abc0"
      },
      "id": "O91kb4kU1GG6",
      "execution_count": null,
      "outputs": [
        {
          "output_type": "display_data",
          "data": {
            "text/plain": [
              "<Figure size 1000x600 with 1 Axes>"
            ],
            "image/png": "[encoded data removed]"
          },
          "metadata": {}
        }
      ]
    },
    {
      "cell_type": "markdown",
      "source": [
        "#### Model - 3: Logistic Regression"
      ],
      "metadata": {
        "id": "TC_AvBySwQjp"
      },
      "id": "TC_AvBySwQjp"
    },
    {
      "cell_type": "code",
      "execution_count": null,
      "id": "be4944c9",
      "metadata": {
        "id": "be4944c9"
      },
      "outputs": [],
      "source": [
        "from  sklearn.linear_model import LogisticRegression\n",
        "model = LogisticRegression()\n",
        "model.fit(X_train, y_train)\n",
        "probs = model.predict_proba(X_test)\n",
        "probs = probs[:, 1]"
      ]
    },
    {
      "cell_type": "code",
      "execution_count": null,
      "id": "b8d6293a",
      "metadata": {
        "scrolled": true,
        "colab": {
          "base_uri": "https://localhost:8080/"
        },
        "id": "b8d6293a",
        "outputId": "918b93a3-feaa-4bcd-e259-3385a89541b7"
      },
      "outputs": [
        {
          "output_type": "stream",
          "name": "stdout",
          "text": [
            "[[ 8.72827763e-01  6.53446686e-01 -1.08272837e+00  9.60254546e-01\n",
            "  -5.33773814e-01  7.78198962e-01 -9.95534968e-01  1.41703505e+00\n",
            "  -3.48722961e-02 -5.76118587e-01 -3.48722961e-02  8.41406774e-01]\n",
            " [-3.69569131e-02 -1.04827574e+00  1.66388226e+00  8.39623539e-01\n",
            "  -2.73257255e-01 -2.33024506e-01  1.00448506e+00  1.41703505e+00\n",
            "  -5.06802930e-01 -5.76118587e-01 -5.06802930e-01  8.41406774e-01]\n",
            " [-1.75130569e-01  8.49799274e-01 -7.08191867e-02 -6.32173629e-01\n",
            "  -1.62947581e+00 -3.86587720e-01  1.00448506e+00 -1.41806277e+00\n",
            "  -5.79651283e-01 -5.76118587e-01 -5.79651283e-01 -1.61937346e+00]\n",
            " [-1.26271554e+00 -1.63733351e+00  9.41089993e-01 -1.60710948e+00\n",
            "  -7.78965870e-01 -1.59534365e+00  1.00448506e+00 -7.09288318e-01\n",
            "  -5.19772271e-01 -5.76118587e-01 -5.19772271e-01  5.15808394e-01]\n",
            " [ 1.47924696e+00  7.84348412e-01 -6.49053004e-01 -1.56014249e+00\n",
            "   3.01411625e-01  1.45215160e+00 -9.95534968e-01  7.08260595e-01\n",
            "  -6.14777815e-02 -5.76118587e-01 -6.14777815e-02 -7.06529391e-01]\n",
            " [ 4.59680636e-02 -1.11372661e+00  3.62856176e-01 -1.42728148e-01\n",
            "   5.31279177e-01 -1.40789561e-01 -9.95534968e-01 -5.13861481e-04\n",
            "  -3.09542260e-01 -5.76118587e-01 -3.09542260e-01  9.61784624e-01]\n",
            " [ 1.28014389e+00  6.53446686e-01 -1.66096218e+00 -1.24126134e+00\n",
            "   1.39711362e+00  1.23085010e+00  1.00448506e+00 -1.41806277e+00\n",
            "   6.28963166e+00  1.73575375e+00  6.28963166e+00 -1.61937346e+00]\n",
            " [-1.60085824e+00 -2.62865391e-01  7.96531539e-01  9.24658511e-01\n",
            "  -5.10787059e-01 -6.52101013e-01 -9.95534968e-01 -1.41806277e+00\n",
            "  -4.82520146e-01 -5.76118587e-01 -4.82520146e-01 -1.61937346e+00]\n",
            " [ 1.44789897e+00  6.53446686e-01  9.41089993e-01  3.41279049e-01\n",
            "  -2.50270500e-01  1.41732961e+00 -9.95534968e-01  1.41703505e+00\n",
            "  -4.64560887e-01 -5.76118587e-01 -4.64560887e-01  8.41406774e-01]\n",
            " [-1.52465317e+00 -5.90119704e-01 -7.93611458e-01  1.07927265e-01\n",
            "   1.40477587e+00  1.94887429e-01 -9.95534968e-01 -1.41806277e+00\n",
            "   3.36518561e-01  1.73575375e+00  3.36518561e-01 -1.61937346e+00]]\n"
          ]
        }
      ],
      "source": [
        "from sklearn.preprocessing import StandardScaler\n",
        "import matplotlib.pyplot as plt\n",
        "sc_x = StandardScaler()\n",
        "X_train = sc_x.fit_transform(X_train)\n",
        "X_test = sc_x.transform(X_test)\n",
        "print(X_train[0:10, :])"
      ]
    },
    {
      "cell_type": "code",
      "execution_count": null,
      "id": "b332c352",
      "metadata": {
        "id": "b332c352"
      },
      "outputs": [],
      "source": [
        "from sklearn.metrics import classification_report\n",
        "classifier = LogisticRegression()\n",
        "classifier.fit(X_train, y_train)\n",
        "y_pred = classifier.predict(X_test)"
      ]
    },
    {
      "cell_type": "code",
      "source": [
        "from sklearn.metrics import recall_score\n",
        "recall = recall_score(y_test, y_pred)\n",
        "print('Recall: ', recall)"
      ],
      "metadata": {
        "colab": {
          "base_uri": "https://localhost:8080/"
        },
        "id": "e551h2EQjLa4",
        "outputId": "993b391f-d855-4bd8-9900-3e0f4d17bdc9"
      },
      "id": "e551h2EQjLa4",
      "execution_count": null,
      "outputs": [
        {
          "output_type": "stream",
          "name": "stdout",
          "text": [
            "Recall:  0.3950206632395928\n"
          ]
        }
      ]
    },
    {
      "cell_type": "code",
      "execution_count": null,
      "id": "66c9545c",
      "metadata": {
        "colab": {
          "base_uri": "https://localhost:8080/"
        },
        "id": "66c9545c",
        "outputId": "421b03e9-129d-4c59-94de-17eb496610f5"
      },
      "outputs": [
        {
          "output_type": "stream",
          "name": "stdout",
          "text": [
            "Accuracy :  0.5002\n"
          ]
        }
      ],
      "source": [
        "from sklearn.metrics import accuracy_score\n",
        "print (\"Accuracy : \", accuracy_score(y_test, y_pred))"
      ]
    },
    {
      "cell_type": "code",
      "source": [
        "report = classification_report(y_test, y_pred)\n",
        "print(\"Classification Report:\\n\", report)"
      ],
      "metadata": {
        "colab": {
          "base_uri": "https://localhost:8080/"
        },
        "id": "iFHn6JHwqA6N",
        "outputId": "6b001b3a-699c-47bf-86c5-fae5033ab69a"
      },
      "id": "iFHn6JHwqA6N",
      "execution_count": null,
      "outputs": [
        {
          "output_type": "stream",
          "name": "stdout",
          "text": [
            "Classification Report:\n",
            "               precision    recall  f1-score   support\n",
            "\n",
            "           0       0.50      0.60      0.55     10079\n",
            "           1       0.50      0.40      0.44      9921\n",
            "\n",
            "    accuracy                           0.50     20000\n",
            "   macro avg       0.50      0.50      0.49     20000\n",
            "weighted avg       0.50      0.50      0.49     20000\n",
            "\n"
          ]
        }
      ]
    },
    {
      "cell_type": "markdown",
      "source": [
        "**Note:** I have also tried other algorithms like Support Vector Machine, K-Means, KNN, and also these algorithms with and without “Standard Scaler”, and also with and without “One Hot Encoder” but even they do not have any significant difference in their results."
      ],
      "metadata": {
        "id": "VBOTO-043lko"
      },
      "id": "VBOTO-043lko"
    },
    {
      "cell_type": "markdown",
      "source": [
        "#### Model - 4: Random Forest Classifier"
      ],
      "metadata": {
        "id": "E_wOLqCa3y0l"
      },
      "id": "E_wOLqCa3y0l"
    },
    {
      "cell_type": "code",
      "source": [
        "from sklearn.preprocessing import StandardScaler\n",
        "from sklearn.ensemble import RandomForestClassifier\n",
        "from sklearn.metrics import accuracy_score, classification_report\n",
        "\n",
        "scaler = StandardScaler()\n",
        "X_train = scaler.fit_transform(X_train)\n",
        "X_test = scaler.transform(X_test)"
      ],
      "metadata": {
        "id": "kd2ldYhNFXdV"
      },
      "id": "kd2ldYhNFXdV",
      "execution_count": null,
      "outputs": []
    },
    {
      "cell_type": "code",
      "source": [
        "model = RandomForestClassifier(random_state=42)\n",
        "model.fit(X_train, y_train)\n",
        "y_pred = model.predict(X_test)"
      ],
      "metadata": {
        "id": "5bpu2GEKFXgE"
      },
      "id": "5bpu2GEKFXgE",
      "execution_count": null,
      "outputs": []
    },
    {
      "cell_type": "code",
      "source": [
        "accuracy = accuracy_score(y_test, y_pred)\n",
        "classification_rep = classification_report(y_test, y_pred)\n",
        "print(\"Accuracy:\", accuracy)"
      ],
      "metadata": {
        "id": "EpC0Yl6PFXjc",
        "colab": {
          "base_uri": "https://localhost:8080/"
        },
        "outputId": "60fe7175-9428-4015-ffd9-70b56f92ef8e"
      },
      "id": "EpC0Yl6PFXjc",
      "execution_count": null,
      "outputs": [
        {
          "output_type": "stream",
          "name": "stdout",
          "text": [
            "Accuracy: 0.4979\n"
          ]
        }
      ]
    },
    {
      "cell_type": "code",
      "source": [
        "from sklearn.metrics import recall_score\n",
        "recall = recall_score(y_test, y_pred)\n",
        "print('Recall: ', recall)"
      ],
      "metadata": {
        "colab": {
          "base_uri": "https://localhost:8080/"
        },
        "id": "U6FJYxK2lZMT",
        "outputId": "1ffeb6e2-6a86-4ea3-bccd-f866a317a33d"
      },
      "id": "U6FJYxK2lZMT",
      "execution_count": null,
      "outputs": [
        {
          "output_type": "stream",
          "name": "stdout",
          "text": [
            "Recall:  0.4652756778550549\n"
          ]
        }
      ]
    },
    {
      "cell_type": "code",
      "source": [
        "print(\"Classification Report:\\n\", classification_rep)"
      ],
      "metadata": {
        "colab": {
          "base_uri": "https://localhost:8080/"
        },
        "id": "Gc9QYO-gFXwe",
        "outputId": "eaa443ec-c6db-4627-c35e-62e95c8f2311"
      },
      "id": "Gc9QYO-gFXwe",
      "execution_count": null,
      "outputs": [
        {
          "output_type": "stream",
          "name": "stdout",
          "text": [
            "Classification Report:\n",
            "               precision    recall  f1-score   support\n",
            "\n",
            "           0       0.50      0.53      0.52     10079\n",
            "           1       0.49      0.47      0.48      9921\n",
            "\n",
            "    accuracy                           0.50     20000\n",
            "   macro avg       0.50      0.50      0.50     20000\n",
            "weighted avg       0.50      0.50      0.50     20000\n",
            "\n"
          ]
        }
      ]
    },
    {
      "cell_type": "markdown",
      "source": [
        "#### Model - 5: XGBoost (Gradient Boosting Algorithm)"
      ],
      "metadata": {
        "id": "-tKQ3eED4Cpd"
      },
      "id": "-tKQ3eED4Cpd"
    },
    {
      "cell_type": "code",
      "source": [
        "#XGBoost is a boosting technique used to combine multiple weak learners/base learners and combines their output to get better final performance\n",
        "from sklearn.model_selection import train_test_split\n",
        "from sklearn.preprocessing import StandardScaler\n",
        "from xgboost import XGBClassifier\n",
        "from sklearn.metrics import accuracy_score, classification_report\n",
        "\n",
        "scaler = StandardScaler()\n",
        "X_train = scaler.fit_transform(X_train)\n",
        "X_test = scaler.transform(X_test)"
      ],
      "metadata": {
        "id": "MxoaiFZUGSpP"
      },
      "id": "MxoaiFZUGSpP",
      "execution_count": null,
      "outputs": []
    },
    {
      "cell_type": "code",
      "source": [
        "model = XGBClassifier(random_state=42)\n",
        "model.fit(X_train, y_train)\n",
        "y_pred = model.predict(X_test)"
      ],
      "metadata": {
        "id": "xJw8MEiMGSq7"
      },
      "id": "xJw8MEiMGSq7",
      "execution_count": null,
      "outputs": []
    },
    {
      "cell_type": "code",
      "source": [
        "accuracy = accuracy_score(y_test, y_pred)\n",
        "classification_rep = classification_report(y_test, y_pred)\n",
        "print(\"Accuracy:\", accuracy)"
      ],
      "metadata": {
        "id": "oTNsjJbeGSsp",
        "colab": {
          "base_uri": "https://localhost:8080/"
        },
        "outputId": "4b073dfa-7a21-4f77-e2a0-9861a95e607d"
      },
      "id": "oTNsjJbeGSsp",
      "execution_count": null,
      "outputs": [
        {
          "output_type": "stream",
          "name": "stdout",
          "text": [
            "Accuracy: 0.4968\n"
          ]
        }
      ]
    },
    {
      "cell_type": "code",
      "source": [
        "from sklearn.metrics import recall_score\n",
        "recall = recall_score(y_test, y_pred)\n",
        "print('Recall: ', recall)"
      ],
      "metadata": {
        "colab": {
          "base_uri": "https://localhost:8080/"
        },
        "id": "eAtDfGY8m3wq",
        "outputId": "46cc68d2-a155-4143-d316-297e6888fcd7"
      },
      "id": "eAtDfGY8m3wq",
      "execution_count": null,
      "outputs": [
        {
          "output_type": "stream",
          "name": "stdout",
          "text": [
            "Recall:  0.47989114000604777\n"
          ]
        }
      ]
    },
    {
      "cell_type": "code",
      "source": [
        "print(\"Classification Report:\\n\", classification_rep)"
      ],
      "metadata": {
        "colab": {
          "base_uri": "https://localhost:8080/"
        },
        "id": "fxWDikP7An-K",
        "outputId": "71a25920-229a-4dca-aaa4-7e31dc6352ca"
      },
      "id": "fxWDikP7An-K",
      "execution_count": null,
      "outputs": [
        {
          "output_type": "stream",
          "name": "stdout",
          "text": [
            "Classification Report:\n",
            "               precision    recall  f1-score   support\n",
            "\n",
            "           0       0.50      0.51      0.51     10079\n",
            "           1       0.49      0.48      0.49      9921\n",
            "\n",
            "    accuracy                           0.50     20000\n",
            "   macro avg       0.50      0.50      0.50     20000\n",
            "weighted avg       0.50      0.50      0.50     20000\n",
            "\n"
          ]
        }
      ]
    },
    {
      "cell_type": "markdown",
      "id": "b9ca22f8",
      "metadata": {
        "id": "b9ca22f8"
      },
      "source": [
        "## Stage - 4: Model Optimization"
      ]
    },
    {
      "cell_type": "markdown",
      "source": [
        "Firstly, I've tried to Optimize by using GridSearchCV with LogisticRegression but the accuray and recall were still not satisfactory."
      ],
      "metadata": {
        "id": "RbTKBmP7xaFQ"
      },
      "id": "RbTKBmP7xaFQ"
    },
    {
      "cell_type": "code",
      "source": [
        "from sklearn.model_selection import train_test_split, GridSearchCV\n",
        "from sklearn.preprocessing import StandardScaler\n",
        "from sklearn.linear_model import LogisticRegression\n",
        "from sklearn.metrics import accuracy_score, classification_report\n",
        "scaler = StandardScaler()\n",
        "X_train_scaled = scaler.fit_transform(X_train)\n",
        "X_test_scaled = scaler.transform(X_test)\n",
        "\n",
        "param_grid = {\n",
        "    'C': [0.001, 0.01, 0.1, 1, 10, 100],\n",
        "    'penalty': ['l1', 'l2']\n",
        "}"
      ],
      "metadata": {
        "id": "H2q8mxgqQPSP"
      },
      "id": "H2q8mxgqQPSP",
      "execution_count": null,
      "outputs": []
    },
    {
      "cell_type": "code",
      "source": [
        "model = LogisticRegression(random_state=42, max_iter=1000)\n",
        "grid_search = GridSearchCV(model, param_grid, cv=5, scoring='accuracy', n_jobs=-1)\n",
        "grid_search.fit(X_train_scaled, y_train)\n",
        "best_model = grid_search.best_estimator_\n",
        "y_pred = best_model.predict(X_test_scaled)"
      ],
      "metadata": {
        "id": "IlwZnE08nzMx",
        "colab": {
          "base_uri": "https://localhost:8080/"
        },
        "outputId": "b92d315a-47e4-4acb-cf55-6723d01cb26c"
      },
      "id": "IlwZnE08nzMx",
      "execution_count": null,
      "outputs": [
        {
          "output_type": "stream",
          "name": "stderr",
          "text": [
            "/usr/local/lib/python3.10/dist-packages/sklearn/model_selection/_validation.py:378: FitFailedWarning: \n",
            "30 fits failed out of a total of 60.\n",
            "The score on these train-test partitions for these parameters will be set to nan.\n",
            "If these failures are not expected, you can try to debug them by setting error_score='raise'.\n",
            "\n",
            "Below are more details about the failures:\n",
            "--------------------------------------------------------------------------------\n",
            "30 fits failed with the following error:\n",
            "Traceback (most recent call last):\n",
            "  File \"/usr/local/lib/python3.10/dist-packages/sklearn/model_selection/_validation.py\", line 686, in _fit_and_score\n",
            "    estimator.fit(X_train, y_train, **fit_params)\n",
            "  File \"/usr/local/lib/python3.10/dist-packages/sklearn/linear_model/_logistic.py\", line 1162, in fit\n",
            "    solver = _check_solver(self.solver, self.penalty, self.dual)\n",
            "  File \"/usr/local/lib/python3.10/dist-packages/sklearn/linear_model/_logistic.py\", line 54, in _check_solver\n",
            "    raise ValueError(\n",
            "ValueError: Solver lbfgs supports only 'l2' or 'none' penalties, got l1 penalty.\n",
            "\n",
            "  warnings.warn(some_fits_failed_message, FitFailedWarning)\n",
            "/usr/local/lib/python3.10/dist-packages/sklearn/model_selection/_search.py:952: UserWarning: One or more of the test scores are non-finite: [      nan 0.5046          nan 0.504675        nan 0.5047375       nan\n",
            " 0.5047625       nan 0.5047625       nan 0.5047625]\n",
            "  warnings.warn(\n"
          ]
        }
      ]
    },
    {
      "cell_type": "code",
      "source": [
        "from sklearn.metrics import recall_score\n",
        "recall = recall_score(y_test, y_pred)\n",
        "print('Recall: ', recall)"
      ],
      "metadata": {
        "colab": {
          "base_uri": "https://localhost:8080/"
        },
        "id": "4oAY_1NknzRw",
        "outputId": "0372f014-ef45-48e0-9fa7-05fc77d4b83e"
      },
      "id": "4oAY_1NknzRw",
      "execution_count": null,
      "outputs": [
        {
          "output_type": "stream",
          "name": "stdout",
          "text": [
            "Recall:  0.3950206632395928\n"
          ]
        }
      ]
    },
    {
      "cell_type": "code",
      "source": [
        "accuracy = accuracy_score(y_test, y_pred)\n",
        "print(\"Accuracy:\", accuracy)"
      ],
      "metadata": {
        "colab": {
          "base_uri": "https://localhost:8080/"
        },
        "id": "U0VPulELowIS",
        "outputId": "d8edd54b-950f-4c78-b264-1247394d6c73"
      },
      "id": "U0VPulELowIS",
      "execution_count": null,
      "outputs": [
        {
          "output_type": "stream",
          "name": "stdout",
          "text": [
            "Accuracy: 0.5002\n"
          ]
        }
      ]
    },
    {
      "cell_type": "code",
      "source": [
        "classification_rep = classification_report(y_test, y_pred)\n",
        "print(\"Best Parameters:\", grid_search.best_params_)\n",
        "print(\"Classification Report:\\n\", classification_rep)"
      ],
      "metadata": {
        "colab": {
          "base_uri": "https://localhost:8080/"
        },
        "id": "Xbxd3Sp1nzPL",
        "outputId": "2ec4fb21-ab85-4d1d-cef4-2df388ce1bc8"
      },
      "id": "Xbxd3Sp1nzPL",
      "execution_count": null,
      "outputs": [
        {
          "output_type": "stream",
          "name": "stdout",
          "text": [
            "Best Parameters: {'C': 1, 'penalty': 'l2'}\n",
            "Classification Report:\n",
            "               precision    recall  f1-score   support\n",
            "\n",
            "           0       0.50      0.60      0.55     10079\n",
            "           1       0.50      0.40      0.44      9921\n",
            "\n",
            "    accuracy                           0.50     20000\n",
            "   macro avg       0.50      0.50      0.49     20000\n",
            "weighted avg       0.50      0.50      0.49     20000\n",
            "\n"
          ]
        }
      ]
    },
    {
      "cell_type": "markdown",
      "source": [
        "After that, I've tried to use DecisionTreeClassifier through which I was able to find some better results."
      ],
      "metadata": {
        "id": "3ZjVs7f5xqpD"
      },
      "id": "3ZjVs7f5xqpD"
    },
    {
      "cell_type": "code",
      "source": [
        "from sklearn.tree import DecisionTreeClassifier\n",
        "clf = DecisionTreeClassifier(max_depth = 10)\n",
        "clf.fit(X_train, y_train)\n",
        "\n",
        "y_train_preds = clf.predict(X_train)\n",
        "y_test_preds = clf.predict(X_test)\n",
        "result = pd.DataFrame(clf.predict(X_test), columns = ['Churn'])\n",
        "dtcr = round(recall_score(y_test, y_test_preds),4)"
      ],
      "metadata": {
        "id": "ccUJW6gpnzZK"
      },
      "id": "ccUJW6gpnzZK",
      "execution_count": null,
      "outputs": []
    },
    {
      "cell_type": "code",
      "source": [
        "print(f'Accuracy: {round(accuracy_score(y_test, y_test_preds),3)}')\n",
        "print(f'Recall score: {round(recall_score(y_test, y_test_preds),4)}')"
      ],
      "metadata": {
        "colab": {
          "base_uri": "https://localhost:8080/"
        },
        "id": "kFvgEuX4QPTt",
        "outputId": "20f23ada-22ad-4f79-9b30-65887cc84a7b"
      },
      "id": "kFvgEuX4QPTt",
      "execution_count": null,
      "outputs": [
        {
          "output_type": "stream",
          "name": "stdout",
          "text": [
            "Accuracy: 0.505\n",
            "Recall score: 0.5342\n"
          ]
        }
      ]
    },
    {
      "cell_type": "markdown",
      "id": "a65fcb69",
      "metadata": {
        "id": "a65fcb69"
      },
      "source": [
        "## Stage - 5: Model Development"
      ]
    },
    {
      "cell_type": "code",
      "execution_count": null,
      "id": "839de8a1",
      "metadata": {
        "id": "839de8a1",
        "colab": {
          "base_uri": "https://localhost:8080/",
          "height": 74
        },
        "outputId": "1aef79f1-d600-4f6a-f9da-0be3080aaa0f"
      },
      "outputs": [
        {
          "output_type": "execute_result",
          "data": {
            "text/plain": [
              "RandomForestClassifier(random_state=42)"
            ],
            "text/html": [
              "<style>#sk-container-id-1 {color: black;background-color: white;}#sk-container-id-1 pre{padding: 0;}#sk-container-id-1 div.sk-toggleable {background-color: white;}#sk-container-id-1 label.sk-toggleable__label {cursor: pointer;display: block;width: 100%;margin-bottom: 0;padding: 0.3em;box-sizing: border-box;text-align: center;}#sk-container-id-1 label.sk-toggleable__label-arrow:before {content: \"▸\";float: left;margin-right: 0.25em;color: #696969;}#sk-container-id-1 label.sk-toggleable__label-arrow:hover:before {color: black;}#sk-container-id-1 div.sk-estimator:hover label.sk-toggleable__label-arrow:before {color: black;}#sk-container-id-1 div.sk-toggleable__content {max-height: 0;max-width: 0;overflow: hidden;text-align: left;background-color: #f0f8ff;}#sk-container-id-1 div.sk-toggleable__content pre {margin: 0.2em;color: black;border-radius: 0.25em;background-color: #f0f8ff;}#sk-container-id-1 input.sk-toggleable__control:checked~div.sk-toggleable__content {max-height: 200px;max-width: 100%;overflow: auto;}#sk-container-id-1 input.sk-toggleable__control:checked~label.sk-toggleable__label-arrow:before {content: \"▾\";}#sk-container-id-1 div.sk-estimator input.sk-toggleable__control:checked~label.sk-toggleable__label {background-color: #d4ebff;}#sk-container-id-1 div.sk-label input.sk-toggleable__control:checked~label.sk-toggleable__label {background-color: #d4ebff;}#sk-container-id-1 input.sk-hidden--visually {border: 0;clip: rect(1px 1px 1px 1px);clip: rect(1px, 1px, 1px, 1px);height: 1px;margin: -1px;overflow: hidden;padding: 0;position: absolute;width: 1px;}#sk-container-id-1 div.sk-estimator {font-family: monospace;background-color: #f0f8ff;border: 1px dotted black;border-radius: 0.25em;box-sizing: border-box;margin-bottom: 0.5em;}#sk-container-id-1 div.sk-estimator:hover {background-color: #d4ebff;}#sk-container-id-1 div.sk-parallel-item::after {content: \"\";width: 100%;border-bottom: 1px solid gray;flex-grow: 1;}#sk-container-id-1 div.sk-label:hover label.sk-toggleable__label {background-color: #d4ebff;}#sk-container-id-1 div.sk-serial::before {content: \"\";position: absolute;border-left: 1px solid gray;box-sizing: border-box;top: 0;bottom: 0;left: 50%;z-index: 0;}#sk-container-id-1 div.sk-serial {display: flex;flex-direction: column;align-items: center;background-color: white;padding-right: 0.2em;padding-left: 0.2em;position: relative;}#sk-container-id-1 div.sk-item {position: relative;z-index: 1;}#sk-container-id-1 div.sk-parallel {display: flex;align-items: stretch;justify-content: center;background-color: white;position: relative;}#sk-container-id-1 div.sk-item::before, #sk-container-id-1 div.sk-parallel-item::before {content: \"\";position: absolute;border-left: 1px solid gray;box-sizing: border-box;top: 0;bottom: 0;left: 50%;z-index: -1;}#sk-container-id-1 div.sk-parallel-item {display: flex;flex-direction: column;z-index: 1;position: relative;background-color: white;}#sk-container-id-1 div.sk-parallel-item:first-child::after {align-self: flex-end;width: 50%;}#sk-container-id-1 div.sk-parallel-item:last-child::after {align-self: flex-start;width: 50%;}#sk-container-id-1 div.sk-parallel-item:only-child::after {width: 0;}#sk-container-id-1 div.sk-dashed-wrapped {border: 1px dashed gray;margin: 0 0.4em 0.5em 0.4em;box-sizing: border-box;padding-bottom: 0.4em;background-color: white;}#sk-container-id-1 div.sk-label label {font-family: monospace;font-weight: bold;display: inline-block;line-height: 1.2em;}#sk-container-id-1 div.sk-label-container {text-align: center;}#sk-container-id-1 div.sk-container {/* jupyter's `normalize.less` sets `[hidden] { display: none; }` but bootstrap.min.css set `[hidden] { display: none !important; }` so we also need the `!important` here to be able to override the default hidden behavior on the sphinx rendered scikit-learn.org. See: https://github.com/scikit-learn/scikit-learn/issues/21755 */display: inline-block !important;position: relative;}#sk-container-id-1 div.sk-text-repr-fallback {display: none;}</style><div id=\"sk-container-id-1\" class=\"sk-top-container\"><div class=\"sk-text-repr-fallback\"><pre>RandomForestClassifier(random_state=42)</pre><b>In a Jupyter environment, please rerun this cell to show the HTML representation or trust the notebook. <br />On GitHub, the HTML representation is unable to render, please try loading this page with nbviewer.org.</b></div><div class=\"sk-container\" hidden><div class=\"sk-item\"><div class=\"sk-estimator sk-toggleable\"><input class=\"sk-toggleable__control sk-hidden--visually\" id=\"sk-estimator-id-1\" type=\"checkbox\" checked><label for=\"sk-estimator-id-1\" class=\"sk-toggleable__label sk-toggleable__label-arrow\">RandomForestClassifier</label><div class=\"sk-toggleable__content\"><pre>RandomForestClassifier(random_state=42)</pre></div></div></div></div></div>"
            ]
          },
          "metadata": {},
          "execution_count": 50
        }
      ],
      "source": [
        "from sklearn.preprocessing import StandardScaler\n",
        "from sklearn.ensemble import RandomForestClassifier\n",
        "\n",
        "scaler = StandardScaler()\n",
        "X_scaled = scaler.fit_transform(X)\n",
        "\n",
        "model = RandomForestClassifier(random_state=42)\n",
        "model.fit(X_scaled, y)"
      ]
    },
    {
      "cell_type": "code",
      "source": [
        "user_input = {\n",
        "    'CustomerID': int(input(\"Enter Random CustomerID: \")),\n",
        "    'Age': float(input(\"Enter Age: \")),\n",
        "    'Subscription_Length_Months': float(input(\"Enter Subscription Length (Months): \")),\n",
        "    'Monthly_Bill': float(input(\"Enter Monthly Bill: \")),\n",
        "    'Total_Usage_GB': float(input(\"Enter Total Usage (GB): \")),\n",
        "    'Name_encoded': int(input(\"Enter Name Encoded: \")),\n",
        "    'Gender_encoded': int(input(\"Enter Gender Encoded (1 for male, 0 for female): \")),\n",
        "    'Location_encoded': int(input(\"Enter Location Encoded: \")),\n",
        "    'high_usage': int(input(\"Enter High Usage (0 for not high usage, 1 for high usage): \")),\n",
        "    'avg_usage_per_month_GB': float(input(\"Enter Average Usage per Month (GB): \")),\n",
        "    'usage_ratio': float(input(\"Enter Usage Ratio: \")),\n",
        "    'avg_bill_per_location': float(input(\"Enter Average Bill per Location: \"))\n",
        "}\n"
      ],
      "metadata": {
        "id": "Yl4TgVTd9nv_",
        "colab": {
          "base_uri": "https://localhost:8080/"
        },
        "outputId": "53b2519e-66a3-4f60-b851-9d84f883784e"
      },
      "id": "Yl4TgVTd9nv_",
      "execution_count": null,
      "outputs": [
        {
          "name": "stdout",
          "output_type": "stream",
          "text": [
            "Enter Random CustomerID: 7860\n",
            "Enter Age: 22\n",
            "Enter Subscription Length (Months): 14\n",
            "Enter Monthly Bill: 67\n",
            "Enter Total Usage (GB): 145\n",
            "Enter Name Encoded: 44445\n",
            "Enter Gender Encoded (1 for male, 0 for female): 0\n",
            "Enter Location Encoded: 2\n",
            "Enter High Usage (0 for not high usage, 1 for high usage): 1\n",
            "Enter Average Usage per Month (GB): 107\n",
            "Enter Usage Ratio: 2.122276\n",
            "Enter Average Bill per Location: 65.174980\n"
          ]
        }
      ]
    },
    {
      "cell_type": "code",
      "source": [
        "# Predict churn based on user input\n",
        "user_input_scaled = scaler.transform([list(user_input.values())])\n",
        "churn_prediction = model.predict(user_input_scaled)\n",
        "\n",
        "if churn_prediction[0] == 1:\n",
        "    print(\"Churn: Yes\")\n",
        "else:\n",
        "    print(\"Churn: No\")"
      ],
      "metadata": {
        "id": "0GO3N_kM9nxo",
        "colab": {
          "base_uri": "https://localhost:8080/"
        },
        "outputId": "d19db375-02d2-4a29-bb49-c6086e08af57"
      },
      "id": "0GO3N_kM9nxo",
      "execution_count": null,
      "outputs": [
        {
          "output_type": "stream",
          "name": "stdout",
          "text": [
            "Churn: Yes\n"
          ]
        },
        {
          "output_type": "stream",
          "name": "stderr",
          "text": [
            "/usr/local/lib/python3.10/dist-packages/sklearn/base.py:439: UserWarning: X does not have valid feature names, but StandardScaler was fitted with feature names\n",
            "  warnings.warn(\n"
          ]
        }
      ]
    }
  ],
  "metadata": {
    "kernelspec": {
      "display_name": "Python 3",
      "name": "python3"
    },
    "language_info": {
      "codemirror_mode": {
        "name": "ipython",
        "version": 3
      },
      "file_extension": ".py",
      "mimetype": "text/x-python",
      "name": "python",
      "nbconvert_exporter": "python",
      "pygments_lexer": "ipython3",
      "version": "3.9.12"
    },
    "colab": {
      "provenance": [],
      "gpuType": "T4",
      "include_colab_link": true
    },
    "accelerator": "GPU"
  },
  "nbformat": 4,
  "nbformat_minor": 5
}